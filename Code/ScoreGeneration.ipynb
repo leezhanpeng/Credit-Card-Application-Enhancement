{
 "cells": [
  {
   "cell_type": "markdown",
   "metadata": {},
   "source": [
    "# Import Libraries"
   ]
  },
  {
   "cell_type": "code",
   "execution_count": 1,
   "metadata": {},
   "outputs": [],
   "source": [
    "import numpy as np\n",
    "import pandas as pd\n",
    "import csv"
   ]
  },
  {
   "cell_type": "markdown",
   "metadata": {},
   "source": [
    "# Load Data"
   ]
  },
  {
   "cell_type": "code",
   "execution_count": 2,
   "metadata": {},
   "outputs": [
    {
     "data": {
      "text/html": [
       "<div>\n",
       "<style scoped>\n",
       "    .dataframe tbody tr th:only-of-type {\n",
       "        vertical-align: middle;\n",
       "    }\n",
       "\n",
       "    .dataframe tbody tr th {\n",
       "        vertical-align: top;\n",
       "    }\n",
       "\n",
       "    .dataframe thead th {\n",
       "        text-align: right;\n",
       "    }\n",
       "</style>\n",
       "<table border=\"1\" class=\"dataframe\">\n",
       "  <thead>\n",
       "    <tr style=\"text-align: right;\">\n",
       "      <th></th>\n",
       "      <th>id</th>\n",
       "      <th>month_bal</th>\n",
       "      <th>status</th>\n",
       "    </tr>\n",
       "  </thead>\n",
       "  <tbody>\n",
       "    <tr>\n",
       "      <th>0</th>\n",
       "      <td>5001711</td>\n",
       "      <td>0</td>\n",
       "      <td>X</td>\n",
       "    </tr>\n",
       "    <tr>\n",
       "      <th>1</th>\n",
       "      <td>5001711</td>\n",
       "      <td>-1</td>\n",
       "      <td>0</td>\n",
       "    </tr>\n",
       "    <tr>\n",
       "      <th>2</th>\n",
       "      <td>5001711</td>\n",
       "      <td>-2</td>\n",
       "      <td>0</td>\n",
       "    </tr>\n",
       "    <tr>\n",
       "      <th>3</th>\n",
       "      <td>5001711</td>\n",
       "      <td>-3</td>\n",
       "      <td>0</td>\n",
       "    </tr>\n",
       "    <tr>\n",
       "      <th>4</th>\n",
       "      <td>5001712</td>\n",
       "      <td>0</td>\n",
       "      <td>C</td>\n",
       "    </tr>\n",
       "    <tr>\n",
       "      <th>...</th>\n",
       "      <td>...</td>\n",
       "      <td>...</td>\n",
       "      <td>...</td>\n",
       "    </tr>\n",
       "    <tr>\n",
       "      <th>1048570</th>\n",
       "      <td>5150487</td>\n",
       "      <td>-25</td>\n",
       "      <td>C</td>\n",
       "    </tr>\n",
       "    <tr>\n",
       "      <th>1048571</th>\n",
       "      <td>5150487</td>\n",
       "      <td>-26</td>\n",
       "      <td>C</td>\n",
       "    </tr>\n",
       "    <tr>\n",
       "      <th>1048572</th>\n",
       "      <td>5150487</td>\n",
       "      <td>-27</td>\n",
       "      <td>C</td>\n",
       "    </tr>\n",
       "    <tr>\n",
       "      <th>1048573</th>\n",
       "      <td>5150487</td>\n",
       "      <td>-28</td>\n",
       "      <td>C</td>\n",
       "    </tr>\n",
       "    <tr>\n",
       "      <th>1048574</th>\n",
       "      <td>5150487</td>\n",
       "      <td>-29</td>\n",
       "      <td>C</td>\n",
       "    </tr>\n",
       "  </tbody>\n",
       "</table>\n",
       "<p>1048575 rows × 3 columns</p>\n",
       "</div>"
      ],
      "text/plain": [
       "              id  month_bal status\n",
       "0        5001711          0      X\n",
       "1        5001711         -1      0\n",
       "2        5001711         -2      0\n",
       "3        5001711         -3      0\n",
       "4        5001712          0      C\n",
       "...          ...        ...    ...\n",
       "1048570  5150487        -25      C\n",
       "1048571  5150487        -26      C\n",
       "1048572  5150487        -27      C\n",
       "1048573  5150487        -28      C\n",
       "1048574  5150487        -29      C\n",
       "\n",
       "[1048575 rows x 3 columns]"
      ]
     },
     "execution_count": 2,
     "metadata": {},
     "output_type": "execute_result"
    }
   ],
   "source": [
    "with open(\"../Dataset/credit_record.csv\") as f:\n",
    "  data = pd.read_csv(f)\n",
    "data.drop(\"Unnamed: 0\", axis = 1)"
   ]
  },
  {
   "cell_type": "markdown",
   "metadata": {},
   "source": [
    "Normalising the duration scores."
   ]
  },
  {
   "cell_type": "code",
   "execution_count": 3,
   "metadata": {},
   "outputs": [],
   "source": [
    "id_duration_score = data.groupby(\"id\").size()\n",
    "def normalise(score):\n",
    "  score = ((score - 6)/114)*0.3\n",
    "  if score < 0:\n",
    "    score = 0\n",
    "  elif score > 0.3:\n",
    "    score = 0.3\n",
    "  return score\n",
    "duration_score = id_duration_score.apply(normalise)"
   ]
  },
  {
   "cell_type": "code",
   "execution_count": 4,
   "metadata": {},
   "outputs": [
    {
     "name": "stdout",
     "output_type": "stream",
     "text": [
      "['X' '0' 'C' '1' '2' '3' '4' '5']\n"
     ]
    }
   ],
   "source": [
    "print(data[\"status\"].unique())"
   ]
  },
  {
   "cell_type": "markdown",
   "metadata": {},
   "source": [
    "Calculate the scores influenced by the credit record status ('X', 'C', '0', '1', '2', '3', '4', '5')."
   ]
  },
  {
   "cell_type": "code",
   "execution_count": 5,
   "metadata": {},
   "outputs": [],
   "source": [
    "data = data.groupby(\"id\")\n",
    "credit_history_score = []\n",
    "\n",
    "for name, group in data:\n",
    "  score = 0.5\n",
    "  for status in group['status']:\n",
    "    if status == \"X\":\n",
    "      pass\n",
    "    elif status == \"1\":\n",
    "      score *= 0.9\n",
    "    elif status == \"2\":\n",
    "      score *= 0.85\n",
    "    elif status == \"3\":\n",
    "      score *= 0.8\n",
    "    elif status == \"4\":\n",
    "      score *= 0.75\n",
    "    elif status == \"5\":\n",
    "      score *= 0.7\n",
    "    else:\n",
    "      if score >= 1:\n",
    "        pass\n",
    "      elif score < 0.5:\n",
    "        score += 0.005\n",
    "      else:\n",
    "        score += 0.00625\n",
    "  score *= 0.7\n",
    "  credit_history_score.append([name, score])\n",
    "scores = pd.DataFrame(credit_history_score, columns = ['id', 'credit_history_score'])\n",
    "scores['duration_score'] = duration_score.values\n",
    "scores['total_score'] = scores['credit_history_score'] + scores['duration_score']"
   ]
  },
  {
   "cell_type": "markdown",
   "metadata": {},
   "source": [
    "Export the processed `credit_record.csv` dataset (commented until needed)"
   ]
  },
  {
   "cell_type": "code",
   "execution_count": 6,
   "metadata": {},
   "outputs": [],
   "source": [
    "#scores.to_csv('scores.csv', index=False)"
   ]
  },
  {
   "cell_type": "code",
   "execution_count": 7,
   "metadata": {},
   "outputs": [
    {
     "data": {
      "text/html": [
       "<div>\n",
       "<style scoped>\n",
       "    .dataframe tbody tr th:only-of-type {\n",
       "        vertical-align: middle;\n",
       "    }\n",
       "\n",
       "    .dataframe tbody tr th {\n",
       "        vertical-align: top;\n",
       "    }\n",
       "\n",
       "    .dataframe thead th {\n",
       "        text-align: right;\n",
       "    }\n",
       "</style>\n",
       "<table border=\"1\" class=\"dataframe\">\n",
       "  <thead>\n",
       "    <tr style=\"text-align: right;\">\n",
       "      <th></th>\n",
       "      <th>id</th>\n",
       "      <th>credit_history_score</th>\n",
       "      <th>duration_score</th>\n",
       "      <th>total_score</th>\n",
       "    </tr>\n",
       "  </thead>\n",
       "  <tbody>\n",
       "    <tr>\n",
       "      <th>0</th>\n",
       "      <td>5001711</td>\n",
       "      <td>0.363125</td>\n",
       "      <td>0.000000</td>\n",
       "      <td>0.363125</td>\n",
       "    </tr>\n",
       "    <tr>\n",
       "      <th>1</th>\n",
       "      <td>5001712</td>\n",
       "      <td>0.433125</td>\n",
       "      <td>0.034211</td>\n",
       "      <td>0.467336</td>\n",
       "    </tr>\n",
       "    <tr>\n",
       "      <th>2</th>\n",
       "      <td>5001713</td>\n",
       "      <td>0.350000</td>\n",
       "      <td>0.042105</td>\n",
       "      <td>0.392105</td>\n",
       "    </tr>\n",
       "    <tr>\n",
       "      <th>3</th>\n",
       "      <td>5001714</td>\n",
       "      <td>0.350000</td>\n",
       "      <td>0.023684</td>\n",
       "      <td>0.373684</td>\n",
       "    </tr>\n",
       "    <tr>\n",
       "      <th>4</th>\n",
       "      <td>5001715</td>\n",
       "      <td>0.350000</td>\n",
       "      <td>0.142105</td>\n",
       "      <td>0.492105</td>\n",
       "    </tr>\n",
       "    <tr>\n",
       "      <th>...</th>\n",
       "      <td>...</td>\n",
       "      <td>...</td>\n",
       "      <td>...</td>\n",
       "      <td>...</td>\n",
       "    </tr>\n",
       "    <tr>\n",
       "      <th>45980</th>\n",
       "      <td>5150482</td>\n",
       "      <td>0.428750</td>\n",
       "      <td>0.031579</td>\n",
       "      <td>0.460329</td>\n",
       "    </tr>\n",
       "    <tr>\n",
       "      <th>45981</th>\n",
       "      <td>5150483</td>\n",
       "      <td>0.350000</td>\n",
       "      <td>0.031579</td>\n",
       "      <td>0.381579</td>\n",
       "    </tr>\n",
       "    <tr>\n",
       "      <th>45982</th>\n",
       "      <td>5150484</td>\n",
       "      <td>0.406875</td>\n",
       "      <td>0.018421</td>\n",
       "      <td>0.425296</td>\n",
       "    </tr>\n",
       "    <tr>\n",
       "      <th>45983</th>\n",
       "      <td>5150485</td>\n",
       "      <td>0.358750</td>\n",
       "      <td>0.000000</td>\n",
       "      <td>0.358750</td>\n",
       "    </tr>\n",
       "    <tr>\n",
       "      <th>45984</th>\n",
       "      <td>5150487</td>\n",
       "      <td>0.481250</td>\n",
       "      <td>0.063158</td>\n",
       "      <td>0.544408</td>\n",
       "    </tr>\n",
       "  </tbody>\n",
       "</table>\n",
       "<p>45985 rows × 4 columns</p>\n",
       "</div>"
      ],
      "text/plain": [
       "            id  credit_history_score  duration_score  total_score\n",
       "0      5001711              0.363125        0.000000     0.363125\n",
       "1      5001712              0.433125        0.034211     0.467336\n",
       "2      5001713              0.350000        0.042105     0.392105\n",
       "3      5001714              0.350000        0.023684     0.373684\n",
       "4      5001715              0.350000        0.142105     0.492105\n",
       "...        ...                   ...             ...          ...\n",
       "45980  5150482              0.428750        0.031579     0.460329\n",
       "45981  5150483              0.350000        0.031579     0.381579\n",
       "45982  5150484              0.406875        0.018421     0.425296\n",
       "45983  5150485              0.358750        0.000000     0.358750\n",
       "45984  5150487              0.481250        0.063158     0.544408\n",
       "\n",
       "[45985 rows x 4 columns]"
      ]
     },
     "execution_count": 7,
     "metadata": {},
     "output_type": "execute_result"
    }
   ],
   "source": [
    "scores"
   ]
  }
 ],
 "metadata": {
  "kernelspec": {
   "display_name": "Python 3.9.13 64-bit (microsoft store)",
   "language": "python",
   "name": "python3"
  },
  "language_info": {
   "codemirror_mode": {
    "name": "ipython",
    "version": 3
   },
   "file_extension": ".py",
   "mimetype": "text/x-python",
   "name": "python",
   "nbconvert_exporter": "python",
   "pygments_lexer": "ipython3",
   "version": "3.9.13"
  },
  "orig_nbformat": 4,
  "vscode": {
   "interpreter": {
    "hash": "e545a6e027712da274986a0f0871a5356383609221311d798914a1213fea45b4"
   }
  }
 },
 "nbformat": 4,
 "nbformat_minor": 2
}
