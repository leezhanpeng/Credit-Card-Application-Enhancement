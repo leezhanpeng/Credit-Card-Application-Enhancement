{
 "cells": [
  {
   "cell_type": "markdown",
   "metadata": {},
   "source": [
    "# Import libraries"
   ]
  },
  {
   "cell_type": "code",
   "execution_count": 1,
   "metadata": {},
   "outputs": [],
   "source": [
    "import numpy as np\n",
    "import pandas as pd"
   ]
  },
  {
   "cell_type": "markdown",
   "metadata": {},
   "source": [
    "# Load data"
   ]
  },
  {
   "cell_type": "code",
   "execution_count": 3,
   "metadata": {},
   "outputs": [],
   "source": [
    "encoded_applications = pd.read_csv(\"../Dataset/processed_applications.csv\")\n",
    "credits = pd.read_csv(\"../Dataset/scores.csv\")"
   ]
  },
  {
   "cell_type": "markdown",
   "metadata": {},
   "source": [
    "# Adjust Data\n",
    "We will split the data to train."
   ]
  },
  {
   "cell_type": "code",
   "execution_count": 18,
   "metadata": {},
   "outputs": [],
   "source": [
    "updated_applicants = pd.merge(encoded_applications, credits, on='id', how='left')\n",
    "updated_applicants = updated_applicants.drop(['id'], axis=1)"
   ]
  },
  {
   "cell_type": "code",
   "execution_count": 19,
   "metadata": {},
   "outputs": [],
   "source": [
    "applicants_w_records = updated_applicants.dropna(subset = [\"total_score\"])\n",
    "applicants_no_records = updated_applicants.loc[updated_applicants[\"total_score\"].isna()]\n"
   ]
  },
  {
   "cell_type": "markdown",
   "metadata": {},
   "source": [
    "We split away around 20% of the applicants with records as test data."
   ]
  },
  {
   "cell_type": "code",
   "execution_count": 20,
   "metadata": {},
   "outputs": [],
   "source": [
    "removal_index_labeled = range(0, len(applicants_w_records), 5)\n",
    "test_data = applicants_w_records.reset_index().filter(removal_index_labeled, axis=0)\n",
    "train_data = applicants_w_records.reset_index().drop(removal_index_labeled, axis=0)"
   ]
  },
  {
   "cell_type": "code",
   "execution_count": 21,
   "metadata": {},
   "outputs": [],
   "source": [
    "x_test_data = test_data.drop(['credit_history_score', 'duration_score', 'total_score'], axis=1).to_numpy(dtype=float)\n",
    "y_test_data = test_data['total_score'].to_numpy(dtype=float)\n",
    "x_train_data = train_data.drop(['credit_history_score', 'duration_score', 'total_score'], axis=1).to_numpy(dtype=float)\n",
    "y_train_data = train_data['total_score'].to_numpy(dtype=float)"
   ]
  },
  {
   "cell_type": "markdown",
   "metadata": {},
   "source": [
    "We split the unlabelled data into 3 sets."
   ]
  },
  {
   "cell_type": "code",
   "execution_count": 22,
   "metadata": {},
   "outputs": [],
   "source": [
    "removal_index_unlabelled1 = range(0, len(applicants_no_records), 3)\n",
    "removal_index_unlabelled2 = range(1, len(applicants_no_records), 3)\n",
    "removal_index_unlabelled3 = range(2, len(applicants_no_records), 3)\n",
    "unlabelled_data_1 = applicants_no_records.reset_index().filter(removal_index_unlabelled1, axis=0)\n",
    "unlabelled_data_2 = applicants_no_records.reset_index().filter(removal_index_unlabelled2, axis=0)\n",
    "unlabelled_data_3 = applicants_no_records.reset_index().filter(removal_index_unlabelled3, axis=0)\n",
    "\n",
    "x_unlabelled_data_1 = unlabelled_data_1.drop(['credit_history_score', 'duration_score', 'total_score'], axis=1).to_numpy(dtype=float)\n",
    "x_unlabelled_data_2 = unlabelled_data_2.drop(['credit_history_score', 'duration_score', 'total_score'], axis=1).to_numpy(dtype=float)\n",
    "x_unlabelled_data_3 = unlabelled_data_3.drop(['credit_history_score', 'duration_score', 'total_score'], axis=1).to_numpy(dtype=float)"
   ]
  },
  {
   "cell_type": "markdown",
   "metadata": {},
   "source": [
    "We remove first column as they are indexes."
   ]
  },
  {
   "cell_type": "code",
   "execution_count": 23,
   "metadata": {},
   "outputs": [],
   "source": [
    "x_test_data = np.delete(x_test_data, 0, axis=1)\n",
    "x_train_data = np.delete(x_train_data, 0, axis=1)\n",
    "x_unlabelled_data_1 = np.delete(x_unlabelled_data_1, 0, axis=1)\n",
    "x_unlabelled_data_2 = np.delete(x_unlabelled_data_2, 0, axis=1)\n",
    "x_unlabelled_data_3 = np.delete(x_unlabelled_data_3, 0, axis=1)"
   ]
  },
  {
   "cell_type": "markdown",
   "metadata": {},
   "source": [
    "# Semi-supervised Learning\n",
    "We will now use the learning model and implement Neural Network.\n",
    "\n",
    "Datasets:\n",
    "* x_test_data\n",
    "* y_test_data\n",
    "* x_train_data\n",
    "* y_train_data\n",
    "* x_unlabelled_data_1\n",
    "* x_unlabelled_data_2\n",
    "* x_unlabelled_data_3\n",
    "\n",
    "We set >0.35 as base score for good clients since we are classifying clients."
   ]
  },
  {
   "cell_type": "code",
   "execution_count": 24,
   "metadata": {},
   "outputs": [],
   "source": [
    "y_test_data = (y_test_data > 0.35).astype(int)\n",
    "y_train_data = (y_train_data > 0.35).astype(int)"
   ]
  },
  {
   "cell_type": "code",
   "execution_count": 38,
   "metadata": {},
   "outputs": [
    {
     "name": "stdout",
     "output_type": "stream",
     "text": [
      "Types of classes: 0, 1\n",
      "Occurrences: 1772, 27393\n"
     ]
    }
   ],
   "source": [
    "print(\"Types of classes: \" + str(np.unique(y_train_data)[0]) + \", \" + str(np.unique(y_train_data)[1]))\n",
    "print(\"Occurrences: \" + str(np.bincount(y_train_data)[0]) + \", \" + str(np.bincount(y_train_data)[1]))"
   ]
  },
  {
   "cell_type": "markdown",
   "metadata": {},
   "source": [
    "Balancing imbalanced classes of data"
   ]
  },
  {
   "cell_type": "code",
   "execution_count": 40,
   "metadata": {},
   "outputs": [],
   "source": [
    "from imblearn.over_sampling import SMOTE\n",
    "oversample = SMOTE()\n",
    "x_train_data, y_train_data = oversample.fit_resample(x_train_data, y_train_data)"
   ]
  },
  {
   "cell_type": "code",
   "execution_count": 41,
   "metadata": {},
   "outputs": [
    {
     "name": "stdout",
     "output_type": "stream",
     "text": [
      "Types of classes: 0, 1\n",
      "Occurrences: 27393, 27393\n"
     ]
    }
   ],
   "source": [
    "print(\"Types of classes: \" + str(np.unique(y_train_data)[0]) + \", \" + str(np.unique(y_train_data)[1]))\n",
    "print(\"Occurrences: \" + str(np.bincount(y_train_data)[0]) + \", \" + str(np.bincount(y_train_data)[1]))"
   ]
  },
  {
   "cell_type": "markdown",
   "metadata": {},
   "source": [
    "## Neural Network\n",
    "We first create our NN model."
   ]
  },
  {
   "cell_type": "code",
   "execution_count": 25,
   "metadata": {},
   "outputs": [],
   "source": [
    "import keras\n",
    "\n",
    "from keras.models import Sequential\n",
    "from keras.layers import Activation, Dense, Dropout\n",
    "from keras import optimizers"
   ]
  },
  {
   "cell_type": "code",
   "execution_count": 26,
   "metadata": {},
   "outputs": [
    {
     "name": "stdout",
     "output_type": "stream",
     "text": [
      "Model: \"sequential\"\n",
      "_________________________________________________________________\n",
      " Layer (type)                Output Shape              Param #   \n",
      "=================================================================\n",
      " dense (Dense)               (None, 256)               8960      \n",
      "                                                                 \n",
      " dense_1 (Dense)             (None, 256)               65792     \n",
      "                                                                 \n",
      " dense_2 (Dense)             (None, 1)                 257       \n",
      "                                                                 \n",
      "=================================================================\n",
      "Total params: 75,009\n",
      "Trainable params: 75,009\n",
      "Non-trainable params: 0\n",
      "_________________________________________________________________\n"
     ]
    }
   ],
   "source": [
    "model_one = Sequential([\n",
    "    Dense(units=256, input_dim=x_train_data.shape[1], activation='relu'),\n",
    "    Dense(units=256, activation='relu'),\n",
    "    Dense(units=1, activation='sigmoid')\n",
    "])\n",
    "\n",
    "model_one.summary()\n",
    "\n",
    "model_one.compile(optimizer=optimizers.Adam(learning_rate=0.001), loss='binary_crossentropy', metrics=['accuracy'])"
   ]
  },
  {
   "cell_type": "markdown",
   "metadata": {},
   "source": [
    "We train our first set of labelled data"
   ]
  },
  {
   "cell_type": "code",
   "execution_count": 27,
   "metadata": {},
   "outputs": [
    {
     "name": "stdout",
     "output_type": "stream",
     "text": [
      "Epoch 1/30\n",
      "6849/6849 [==============================] - 18s 3ms/step - loss: 0.6160 - accuracy: 0.6456 - val_loss: 0.5889 - val_accuracy: 0.6610\n",
      "Epoch 2/30\n",
      "6849/6849 [==============================] - 16s 2ms/step - loss: 0.4862 - accuracy: 0.7555 - val_loss: 0.4709 - val_accuracy: 0.7636\n",
      "Epoch 3/30\n",
      "6849/6849 [==============================] - 17s 3ms/step - loss: 0.4231 - accuracy: 0.7964 - val_loss: 0.5469 - val_accuracy: 0.7230\n",
      "Epoch 4/30\n",
      "6849/6849 [==============================] - 18s 3ms/step - loss: 0.3865 - accuracy: 0.8170 - val_loss: 0.5172 - val_accuracy: 0.7608\n",
      "Epoch 5/30\n",
      "6849/6849 [==============================] - 17s 2ms/step - loss: 0.3636 - accuracy: 0.8281 - val_loss: 0.4881 - val_accuracy: 0.7769\n",
      "Epoch 6/30\n",
      "6849/6849 [==============================] - 19s 3ms/step - loss: 0.3463 - accuracy: 0.8367 - val_loss: 0.5337 - val_accuracy: 0.7641\n",
      "Epoch 7/30\n",
      "6849/6849 [==============================] - 18s 3ms/step - loss: 0.3344 - accuracy: 0.8447 - val_loss: 0.4669 - val_accuracy: 0.7944\n",
      "Epoch 8/30\n",
      "6849/6849 [==============================] - 19s 3ms/step - loss: 0.3231 - accuracy: 0.8499 - val_loss: 0.4927 - val_accuracy: 0.7844\n",
      "Epoch 9/30\n",
      "6849/6849 [==============================] - 18s 3ms/step - loss: 0.3143 - accuracy: 0.8540 - val_loss: 0.4915 - val_accuracy: 0.7990\n",
      "Epoch 10/30\n",
      "6849/6849 [==============================] - 18s 3ms/step - loss: 0.3069 - accuracy: 0.8566 - val_loss: 0.5986 - val_accuracy: 0.7333\n",
      "Epoch 11/30\n",
      "6849/6849 [==============================] - 19s 3ms/step - loss: 0.3015 - accuracy: 0.8598 - val_loss: 0.4670 - val_accuracy: 0.8243\n",
      "Epoch 12/30\n",
      "6849/6849 [==============================] - 19s 3ms/step - loss: 0.2956 - accuracy: 0.8631 - val_loss: 0.4272 - val_accuracy: 0.8416\n",
      "Epoch 13/30\n",
      "6849/6849 [==============================] - 19s 3ms/step - loss: 0.2901 - accuracy: 0.8657 - val_loss: 0.5667 - val_accuracy: 0.7677\n",
      "Epoch 14/30\n",
      "6849/6849 [==============================] - 19s 3ms/step - loss: 0.2850 - accuracy: 0.8683 - val_loss: 0.4757 - val_accuracy: 0.8183\n",
      "Epoch 15/30\n",
      "6849/6849 [==============================] - 19s 3ms/step - loss: 0.2817 - accuracy: 0.8705 - val_loss: 0.4438 - val_accuracy: 0.8369\n",
      "Epoch 16/30\n",
      "6849/6849 [==============================] - 19s 3ms/step - loss: 0.2762 - accuracy: 0.8722 - val_loss: 0.4717 - val_accuracy: 0.8295\n",
      "Epoch 17/30\n",
      "6849/6849 [==============================] - 18s 3ms/step - loss: 0.2736 - accuracy: 0.8742 - val_loss: 0.4300 - val_accuracy: 0.8529\n",
      "Epoch 18/30\n",
      "6849/6849 [==============================] - 19s 3ms/step - loss: 0.2690 - accuracy: 0.8764 - val_loss: 0.4625 - val_accuracy: 0.8298\n",
      "Epoch 19/30\n",
      "6849/6849 [==============================] - 18s 3ms/step - loss: 0.2665 - accuracy: 0.8779 - val_loss: 0.4725 - val_accuracy: 0.8300\n",
      "Epoch 20/30\n",
      "6849/6849 [==============================] - 14s 2ms/step - loss: 0.2630 - accuracy: 0.8784 - val_loss: 0.4957 - val_accuracy: 0.8183\n",
      "Epoch 21/30\n",
      "6849/6849 [==============================] - 17s 3ms/step - loss: 0.2609 - accuracy: 0.8801 - val_loss: 0.5129 - val_accuracy: 0.8157\n",
      "Epoch 22/30\n",
      "6849/6849 [==============================] - 19s 3ms/step - loss: 0.2576 - accuracy: 0.8809 - val_loss: 0.4542 - val_accuracy: 0.8529\n",
      "Epoch 23/30\n",
      "6849/6849 [==============================] - 19s 3ms/step - loss: 0.2546 - accuracy: 0.8836 - val_loss: 0.4622 - val_accuracy: 0.8537\n",
      "Epoch 24/30\n",
      "6849/6849 [==============================] - 19s 3ms/step - loss: 0.2531 - accuracy: 0.8836 - val_loss: 0.5477 - val_accuracy: 0.7933\n",
      "Epoch 25/30\n",
      "6849/6849 [==============================] - 18s 3ms/step - loss: 0.2505 - accuracy: 0.8845 - val_loss: 0.4594 - val_accuracy: 0.8552\n",
      "Epoch 26/30\n",
      "6849/6849 [==============================] - 18s 3ms/step - loss: 0.2474 - accuracy: 0.8866 - val_loss: 0.4592 - val_accuracy: 0.8567\n",
      "Epoch 27/30\n",
      "6849/6849 [==============================] - 16s 2ms/step - loss: 0.2461 - accuracy: 0.8870 - val_loss: 0.5366 - val_accuracy: 0.8140\n",
      "Epoch 28/30\n",
      "6849/6849 [==============================] - 18s 3ms/step - loss: 0.2436 - accuracy: 0.8885 - val_loss: 0.4916 - val_accuracy: 0.8472\n",
      "Epoch 29/30\n",
      "6849/6849 [==============================] - 19s 3ms/step - loss: 0.2429 - accuracy: 0.8897 - val_loss: 0.5122 - val_accuracy: 0.8286\n",
      "Epoch 30/30\n",
      "6849/6849 [==============================] - 16s 2ms/step - loss: 0.2404 - accuracy: 0.8892 - val_loss: 0.5036 - val_accuracy: 0.8177\n"
     ]
    }
   ],
   "source": [
    "first_training = model_one.fit(x_train_data, y_train_data, batch_size=8, epochs=30, validation_data=(x_test_data, y_test_data))"
   ]
  },
  {
   "cell_type": "markdown",
   "metadata": {},
   "source": [
    "We create our first pesudo-labels. There will be a conversion of 1/0s as model output uses sigmoid.\n",
    "\n",
    "Confident pseudo-labels (>=0.99 and <=0.01) and its applicant data are then added to the training data."
   ]
  },
  {
   "cell_type": "code",
   "execution_count": 28,
   "metadata": {},
   "outputs": [
    {
     "name": "stdout",
     "output_type": "stream",
     "text": [
      "4189/4189 [==============================] - 4s 1ms/step\n"
     ]
    }
   ],
   "source": [
    "pseudo_label_1 = model_one.predict(x_unlabelled_data_1)\n",
    "indexing = np.where((pseudo_label_1 == 1) | (pseudo_label_1 <= 0.01))\n",
    "pseudo_label_1 = pseudo_label_1[(pseudo_label_1  == 1) | (pseudo_label_1 <= 0.01)]\n",
    "pseudo_label_1 = (pseudo_label_1 > 0.5).astype(int)\n",
    "good_unlabelled_data_1 = x_unlabelled_data_1[indexing[0]]\n",
    "\n",
    "new_x_train_data = np.vstack((x_train_data, good_unlabelled_data_1))\n",
    "new_y_train_data = np.append(y_train_data, pseudo_label_1)\n",
    "\n",
    "new_x_train_data, new_y_train_data = oversample.fit_resample(new_x_train_data, new_y_train_data)"
   ]
  },
  {
   "cell_type": "markdown",
   "metadata": {},
   "source": [
    "### Second training"
   ]
  },
  {
   "cell_type": "code",
   "execution_count": 29,
   "metadata": {},
   "outputs": [
    {
     "name": "stdout",
     "output_type": "stream",
     "text": [
      "Epoch 1/30\n",
      "4623/4623 [==============================] - 19s 4ms/step - loss: 0.5589 - accuracy: 0.6951 - val_loss: 0.7472 - val_accuracy: 0.5171\n",
      "Epoch 2/30\n",
      "4623/4623 [==============================] - 19s 4ms/step - loss: 0.4517 - accuracy: 0.7758 - val_loss: 0.6178 - val_accuracy: 0.6334\n",
      "Epoch 3/30\n",
      "4623/4623 [==============================] - 18s 4ms/step - loss: 0.4063 - accuracy: 0.8060 - val_loss: 0.5764 - val_accuracy: 0.6657\n",
      "Epoch 4/30\n",
      "4623/4623 [==============================] - 19s 4ms/step - loss: 0.3779 - accuracy: 0.8212 - val_loss: 0.4978 - val_accuracy: 0.7763\n",
      "Epoch 5/30\n",
      "4623/4623 [==============================] - 19s 4ms/step - loss: 0.3595 - accuracy: 0.8320 - val_loss: 0.5962 - val_accuracy: 0.7012\n",
      "Epoch 6/30\n",
      "4623/4623 [==============================] - 18s 4ms/step - loss: 0.3444 - accuracy: 0.8399 - val_loss: 0.5895 - val_accuracy: 0.7124\n",
      "Epoch 7/30\n",
      "4623/4623 [==============================] - 18s 4ms/step - loss: 0.3357 - accuracy: 0.8452 - val_loss: 0.6316 - val_accuracy: 0.6607\n",
      "Epoch 8/30\n",
      "4623/4623 [==============================] - 18s 4ms/step - loss: 0.3280 - accuracy: 0.8487 - val_loss: 0.5759 - val_accuracy: 0.7117\n",
      "Epoch 9/30\n",
      "4623/4623 [==============================] - 17s 4ms/step - loss: 0.3172 - accuracy: 0.8533 - val_loss: 0.5950 - val_accuracy: 0.7231\n",
      "Epoch 10/30\n",
      "4623/4623 [==============================] - 18s 4ms/step - loss: 0.3145 - accuracy: 0.8554 - val_loss: 0.5095 - val_accuracy: 0.7804\n",
      "Epoch 11/30\n",
      "4623/4623 [==============================] - 18s 4ms/step - loss: 0.3076 - accuracy: 0.8590 - val_loss: 0.5414 - val_accuracy: 0.7623\n",
      "Epoch 12/30\n",
      "4623/4623 [==============================] - 18s 4ms/step - loss: 0.3035 - accuracy: 0.8617 - val_loss: 0.6067 - val_accuracy: 0.7035\n",
      "Epoch 13/30\n",
      "4623/4623 [==============================] - 18s 4ms/step - loss: 0.2982 - accuracy: 0.8627 - val_loss: 0.5680 - val_accuracy: 0.7315\n",
      "Epoch 14/30\n",
      "4623/4623 [==============================] - 18s 4ms/step - loss: 0.2936 - accuracy: 0.8660 - val_loss: 0.5818 - val_accuracy: 0.7429\n",
      "Epoch 15/30\n",
      "4623/4623 [==============================] - 18s 4ms/step - loss: 0.2895 - accuracy: 0.8684 - val_loss: 0.5544 - val_accuracy: 0.7447\n",
      "Epoch 16/30\n",
      "4623/4623 [==============================] - 18s 4ms/step - loss: 0.2852 - accuracy: 0.8690 - val_loss: 0.6017 - val_accuracy: 0.7112\n",
      "Epoch 17/30\n",
      "4623/4623 [==============================] - 14s 3ms/step - loss: 0.2844 - accuracy: 0.8715 - val_loss: 0.5341 - val_accuracy: 0.7788\n",
      "Epoch 18/30\n",
      "4623/4623 [==============================] - 18s 4ms/step - loss: 0.2821 - accuracy: 0.8718 - val_loss: 0.5482 - val_accuracy: 0.7617\n",
      "Epoch 19/30\n",
      "4623/4623 [==============================] - 17s 4ms/step - loss: 0.2780 - accuracy: 0.8729 - val_loss: 0.5537 - val_accuracy: 0.7547\n",
      "Epoch 20/30\n",
      "4623/4623 [==============================] - 18s 4ms/step - loss: 0.2788 - accuracy: 0.8739 - val_loss: 0.5732 - val_accuracy: 0.7382\n",
      "Epoch 21/30\n",
      "4623/4623 [==============================] - 17s 4ms/step - loss: 0.2751 - accuracy: 0.8768 - val_loss: 0.5264 - val_accuracy: 0.7662\n",
      "Epoch 22/30\n",
      "4623/4623 [==============================] - 18s 4ms/step - loss: 0.2707 - accuracy: 0.8776 - val_loss: 0.5666 - val_accuracy: 0.7588\n",
      "Epoch 23/30\n",
      "4623/4623 [==============================] - 18s 4ms/step - loss: 0.2694 - accuracy: 0.8787 - val_loss: 0.5731 - val_accuracy: 0.7526\n",
      "Epoch 24/30\n",
      "4623/4623 [==============================] - 18s 4ms/step - loss: 0.2679 - accuracy: 0.8792 - val_loss: 0.5538 - val_accuracy: 0.7632\n",
      "Epoch 25/30\n",
      "4623/4623 [==============================] - 17s 4ms/step - loss: 0.2650 - accuracy: 0.8793 - val_loss: 0.5771 - val_accuracy: 0.7426\n",
      "Epoch 26/30\n",
      "4623/4623 [==============================] - 18s 4ms/step - loss: 0.2640 - accuracy: 0.8810 - val_loss: 0.5412 - val_accuracy: 0.7900\n",
      "Epoch 27/30\n",
      "4623/4623 [==============================] - 17s 4ms/step - loss: 0.2627 - accuracy: 0.8825 - val_loss: 0.5628 - val_accuracy: 0.7482\n",
      "Epoch 28/30\n",
      "4623/4623 [==============================] - 18s 4ms/step - loss: 0.2602 - accuracy: 0.8833 - val_loss: 0.5614 - val_accuracy: 0.7655\n",
      "Epoch 29/30\n",
      "4623/4623 [==============================] - 18s 4ms/step - loss: 0.2578 - accuracy: 0.8838 - val_loss: 0.5643 - val_accuracy: 0.7728\n",
      "Epoch 30/30\n",
      "4623/4623 [==============================] - 18s 4ms/step - loss: 0.2579 - accuracy: 0.8845 - val_loss: 0.5758 - val_accuracy: 0.7516\n"
     ]
    }
   ],
   "source": [
    "model_two = Sequential([\n",
    "    Dense(units=256, input_dim=x_train_data.shape[1], activation='relu'),\n",
    "    Dropout(0.2),\n",
    "    Dense(units=256, activation='relu'),\n",
    "    Dropout(0.2),\n",
    "    Dense(units=1, activation='sigmoid')\n",
    "])\n",
    "\n",
    "model_two.compile(optimizer=optimizers.Adam(learning_rate=0.001), loss='binary_crossentropy', metrics=['accuracy'])\n",
    "\n",
    "second_training = model_two.fit(new_x_train_data, new_y_train_data, batch_size=16, epochs=30, validation_data=(x_test_data, y_test_data))"
   ]
  },
  {
   "cell_type": "markdown",
   "metadata": {},
   "source": [
    "Second pseudo-labelling and adjustment to training data."
   ]
  },
  {
   "cell_type": "code",
   "execution_count": 30,
   "metadata": {},
   "outputs": [
    {
     "name": "stdout",
     "output_type": "stream",
     "text": [
      "4189/4189 [==============================] - 7s 2ms/step\n"
     ]
    }
   ],
   "source": [
    "pseudo_label_2 = model_one.predict(x_unlabelled_data_2)\n",
    "indexing = np.where((pseudo_label_2 == 1) | (pseudo_label_2 <= 0.01))\n",
    "pseudo_label_2 = pseudo_label_2[(pseudo_label_2 == 1) | (pseudo_label_2 <= 0.01)]\n",
    "pseudo_label_2 = (pseudo_label_2 > 0.5).astype(int)\n",
    "good_unlabelled_data_2 = x_unlabelled_data_2[indexing[0]]\n",
    "\n",
    "new_x_train_data = np.vstack((new_x_train_data, good_unlabelled_data_2))\n",
    "new_y_train_data = np.append(new_y_train_data, pseudo_label_2)\n",
    "\n",
    "\n",
    "new_x_train_data, new_y_train_data = oversample.fit_resample(new_x_train_data, new_y_train_data)"
   ]
  },
  {
   "cell_type": "markdown",
   "metadata": {},
   "source": [
    "### Third training"
   ]
  },
  {
   "cell_type": "code",
   "execution_count": 31,
   "metadata": {},
   "outputs": [
    {
     "name": "stdout",
     "output_type": "stream",
     "text": [
      "Epoch 1/30\n",
      "5823/5823 [==============================] - 23s 4ms/step - loss: 0.4945 - accuracy: 0.7472 - val_loss: 0.7495 - val_accuracy: 0.5202\n",
      "Epoch 2/30\n",
      "5823/5823 [==============================] - 20s 3ms/step - loss: 0.3868 - accuracy: 0.8168 - val_loss: 0.7195 - val_accuracy: 0.5765\n",
      "Epoch 3/30\n",
      "5823/5823 [==============================] - 20s 3ms/step - loss: 0.3492 - accuracy: 0.8364 - val_loss: 0.6350 - val_accuracy: 0.6227\n",
      "Epoch 4/30\n",
      "5823/5823 [==============================] - 22s 4ms/step - loss: 0.3271 - accuracy: 0.8486 - val_loss: 0.6611 - val_accuracy: 0.6262\n",
      "Epoch 5/30\n",
      "5823/5823 [==============================] - 19s 3ms/step - loss: 0.3140 - accuracy: 0.8569 - val_loss: 0.7210 - val_accuracy: 0.5937\n",
      "Epoch 6/30\n",
      "5823/5823 [==============================] - 17s 3ms/step - loss: 0.3010 - accuracy: 0.8634 - val_loss: 0.6637 - val_accuracy: 0.6463\n",
      "Epoch 7/30\n",
      "5823/5823 [==============================] - 20s 3ms/step - loss: 0.2922 - accuracy: 0.8680 - val_loss: 0.6172 - val_accuracy: 0.6688\n",
      "Epoch 8/30\n",
      "5823/5823 [==============================] - 23s 4ms/step - loss: 0.2849 - accuracy: 0.8725 - val_loss: 0.6360 - val_accuracy: 0.6658\n",
      "Epoch 9/30\n",
      "5823/5823 [==============================] - 21s 4ms/step - loss: 0.2768 - accuracy: 0.8758 - val_loss: 0.6577 - val_accuracy: 0.6733\n",
      "Epoch 10/30\n",
      "5823/5823 [==============================] - 23s 4ms/step - loss: 0.2709 - accuracy: 0.8784 - val_loss: 0.6163 - val_accuracy: 0.6956\n",
      "Epoch 11/30\n",
      "5823/5823 [==============================] - 23s 4ms/step - loss: 0.2658 - accuracy: 0.8822 - val_loss: 0.6348 - val_accuracy: 0.6902\n",
      "Epoch 12/30\n",
      "5823/5823 [==============================] - 21s 4ms/step - loss: 0.2623 - accuracy: 0.8838 - val_loss: 0.6237 - val_accuracy: 0.6936\n",
      "Epoch 13/30\n",
      "5823/5823 [==============================] - 21s 4ms/step - loss: 0.2576 - accuracy: 0.8856 - val_loss: 0.6492 - val_accuracy: 0.6871\n",
      "Epoch 14/30\n",
      "5823/5823 [==============================] - 20s 3ms/step - loss: 0.2548 - accuracy: 0.8874 - val_loss: 0.5866 - val_accuracy: 0.7368\n",
      "Epoch 15/30\n",
      "5823/5823 [==============================] - 20s 3ms/step - loss: 0.2499 - accuracy: 0.8895 - val_loss: 0.5961 - val_accuracy: 0.7215\n",
      "Epoch 16/30\n",
      "5823/5823 [==============================] - 22s 4ms/step - loss: 0.2491 - accuracy: 0.8896 - val_loss: 0.6443 - val_accuracy: 0.6882\n",
      "Epoch 17/30\n",
      "5823/5823 [==============================] - 19s 3ms/step - loss: 0.2444 - accuracy: 0.8927 - val_loss: 0.6470 - val_accuracy: 0.6953\n",
      "Epoch 18/30\n",
      "5823/5823 [==============================] - 19s 3ms/step - loss: 0.2438 - accuracy: 0.8925 - val_loss: 0.6201 - val_accuracy: 0.7160\n",
      "Epoch 19/30\n",
      "5823/5823 [==============================] - 23s 4ms/step - loss: 0.2414 - accuracy: 0.8943 - val_loss: 0.6807 - val_accuracy: 0.6871\n",
      "Epoch 20/30\n",
      "5823/5823 [==============================] - 24s 4ms/step - loss: 0.2381 - accuracy: 0.8954 - val_loss: 0.6049 - val_accuracy: 0.7375\n",
      "Epoch 21/30\n",
      "5823/5823 [==============================] - 23s 4ms/step - loss: 0.2363 - accuracy: 0.8966 - val_loss: 0.6291 - val_accuracy: 0.7220\n",
      "Epoch 22/30\n",
      "5823/5823 [==============================] - 22s 4ms/step - loss: 0.2340 - accuracy: 0.8968 - val_loss: 0.6231 - val_accuracy: 0.7245\n",
      "Epoch 23/30\n",
      "5823/5823 [==============================] - 23s 4ms/step - loss: 0.2327 - accuracy: 0.8979 - val_loss: 0.6406 - val_accuracy: 0.7148\n",
      "Epoch 24/30\n",
      "5823/5823 [==============================] - 23s 4ms/step - loss: 0.2290 - accuracy: 0.9007 - val_loss: 0.6531 - val_accuracy: 0.7084\n",
      "Epoch 25/30\n",
      "5823/5823 [==============================] - 22s 4ms/step - loss: 0.2288 - accuracy: 0.9006 - val_loss: 0.6107 - val_accuracy: 0.7378\n",
      "Epoch 26/30\n",
      "5823/5823 [==============================] - 23s 4ms/step - loss: 0.2265 - accuracy: 0.9008 - val_loss: 0.6054 - val_accuracy: 0.7361\n",
      "Epoch 27/30\n",
      "5823/5823 [==============================] - 23s 4ms/step - loss: 0.2249 - accuracy: 0.9022 - val_loss: 0.6617 - val_accuracy: 0.7120\n",
      "Epoch 28/30\n",
      "5823/5823 [==============================] - 23s 4ms/step - loss: 0.2240 - accuracy: 0.9024 - val_loss: 0.6457 - val_accuracy: 0.7226\n",
      "Epoch 29/30\n",
      "5823/5823 [==============================] - 23s 4ms/step - loss: 0.2230 - accuracy: 0.9031 - val_loss: 0.6114 - val_accuracy: 0.7492\n",
      "Epoch 30/30\n",
      "5823/5823 [==============================] - 21s 4ms/step - loss: 0.2200 - accuracy: 0.9046 - val_loss: 0.6520 - val_accuracy: 0.7274\n"
     ]
    }
   ],
   "source": [
    "model_three = Sequential([\n",
    "    Dense(units=256, input_dim=x_train_data.shape[1], activation='relu'),\n",
    "    Dropout(0.2),\n",
    "    Dense(units=256, activation='relu'),\n",
    "    Dropout(0.2),\n",
    "    Dense(units=1, activation='sigmoid')\n",
    "])\n",
    "\n",
    "model_three.compile(optimizer=optimizers.Adam(learning_rate=0.001), loss='binary_crossentropy', metrics=['accuracy'])\n",
    "\n",
    "third_training = model_three.fit(new_x_train_data, new_y_train_data, batch_size=16, epochs=30, validation_data=(x_test_data, y_test_data))"
   ]
  },
  {
   "cell_type": "markdown",
   "metadata": {},
   "source": [
    "Third pseudo-labelling and adjustment to training data."
   ]
  },
  {
   "cell_type": "code",
   "execution_count": 32,
   "metadata": {},
   "outputs": [
    {
     "name": "stdout",
     "output_type": "stream",
     "text": [
      "4189/4189 [==============================] - 9s 2ms/step\n"
     ]
    }
   ],
   "source": [
    "pseudo_label_3 = model_one.predict(x_unlabelled_data_3)\n",
    "indexing = np.where((pseudo_label_3 == 1) | (pseudo_label_3 <= 0.01))\n",
    "pseudo_label_3 = pseudo_label_3[(pseudo_label_3 == 1) | (pseudo_label_3 <= 0.01)]\n",
    "pseudo_label_3 = (pseudo_label_3 > 0.5).astype(int)\n",
    "good_unlabelled_data_3 = x_unlabelled_data_3[indexing[0]]\n",
    "\n",
    "new_x_train_data = np.vstack((new_x_train_data, good_unlabelled_data_3))\n",
    "new_y_train_data = np.append(new_y_train_data, pseudo_label_3)\n",
    "\n",
    "new_x_train_data, new_y_train_data = oversample.fit_resample(new_x_train_data, new_y_train_data)"
   ]
  },
  {
   "cell_type": "markdown",
   "metadata": {},
   "source": [
    "### Fourth training"
   ]
  },
  {
   "cell_type": "code",
   "execution_count": 33,
   "metadata": {},
   "outputs": [
    {
     "name": "stdout",
     "output_type": "stream",
     "text": [
      "Epoch 1/30\n",
      "3515/3515 [==============================] - 18s 5ms/step - loss: 0.4552 - accuracy: 0.7782 - val_loss: 0.8245 - val_accuracy: 0.4772\n",
      "Epoch 2/30\n",
      "3515/3515 [==============================] - 17s 5ms/step - loss: 0.3455 - accuracy: 0.8423 - val_loss: 0.6886 - val_accuracy: 0.6067\n",
      "Epoch 3/30\n",
      "3515/3515 [==============================] - 16s 5ms/step - loss: 0.3094 - accuracy: 0.8614 - val_loss: 0.6975 - val_accuracy: 0.6127\n",
      "Epoch 4/30\n",
      "3515/3515 [==============================] - 17s 5ms/step - loss: 0.2895 - accuracy: 0.8718 - val_loss: 0.7079 - val_accuracy: 0.6059\n",
      "Epoch 5/30\n",
      "3515/3515 [==============================] - 16s 5ms/step - loss: 0.2733 - accuracy: 0.8800 - val_loss: 0.6500 - val_accuracy: 0.6474\n",
      "Epoch 6/30\n",
      "3515/3515 [==============================] - 17s 5ms/step - loss: 0.2632 - accuracy: 0.8849 - val_loss: 0.7346 - val_accuracy: 0.6210\n",
      "Epoch 7/30\n",
      "3515/3515 [==============================] - 16s 5ms/step - loss: 0.2549 - accuracy: 0.8889 - val_loss: 0.6671 - val_accuracy: 0.6519\n",
      "Epoch 8/30\n",
      "3515/3515 [==============================] - 16s 5ms/step - loss: 0.2480 - accuracy: 0.8929 - val_loss: 0.5956 - val_accuracy: 0.6980\n",
      "Epoch 9/30\n",
      "3515/3515 [==============================] - 17s 5ms/step - loss: 0.2394 - accuracy: 0.8955 - val_loss: 0.6583 - val_accuracy: 0.6661\n",
      "Epoch 10/30\n",
      "3515/3515 [==============================] - 16s 5ms/step - loss: 0.2352 - accuracy: 0.8985 - val_loss: 0.6140 - val_accuracy: 0.7017\n",
      "Epoch 11/30\n",
      "3515/3515 [==============================] - 17s 5ms/step - loss: 0.2315 - accuracy: 0.9004 - val_loss: 0.6821 - val_accuracy: 0.6684\n",
      "Epoch 12/30\n",
      "3515/3515 [==============================] - 16s 5ms/step - loss: 0.2287 - accuracy: 0.9021 - val_loss: 0.6638 - val_accuracy: 0.6742\n",
      "Epoch 13/30\n",
      "3515/3515 [==============================] - 16s 5ms/step - loss: 0.2216 - accuracy: 0.9045 - val_loss: 0.6202 - val_accuracy: 0.7202\n",
      "Epoch 14/30\n",
      "3515/3515 [==============================] - 16s 5ms/step - loss: 0.2213 - accuracy: 0.9057 - val_loss: 0.6395 - val_accuracy: 0.6960\n",
      "Epoch 15/30\n",
      "3515/3515 [==============================] - 16s 5ms/step - loss: 0.2172 - accuracy: 0.9069 - val_loss: 0.6817 - val_accuracy: 0.6816\n",
      "Epoch 16/30\n",
      "3515/3515 [==============================] - 17s 5ms/step - loss: 0.2153 - accuracy: 0.9090 - val_loss: 0.6558 - val_accuracy: 0.6984\n",
      "Epoch 17/30\n",
      "3515/3515 [==============================] - 17s 5ms/step - loss: 0.2118 - accuracy: 0.9102 - val_loss: 0.6521 - val_accuracy: 0.6987\n",
      "Epoch 18/30\n",
      "3515/3515 [==============================] - 16s 4ms/step - loss: 0.2096 - accuracy: 0.9112 - val_loss: 0.6608 - val_accuracy: 0.6940\n",
      "Epoch 19/30\n",
      "3515/3515 [==============================] - 16s 5ms/step - loss: 0.2057 - accuracy: 0.9124 - val_loss: 0.6683 - val_accuracy: 0.7031\n",
      "Epoch 20/30\n",
      "3515/3515 [==============================] - 16s 5ms/step - loss: 0.2052 - accuracy: 0.9135 - val_loss: 0.6794 - val_accuracy: 0.7017\n",
      "Epoch 21/30\n",
      "3515/3515 [==============================] - 16s 5ms/step - loss: 0.2040 - accuracy: 0.9137 - val_loss: 0.6849 - val_accuracy: 0.6925\n",
      "Epoch 22/30\n",
      "3515/3515 [==============================] - 16s 5ms/step - loss: 0.2022 - accuracy: 0.9143 - val_loss: 0.6449 - val_accuracy: 0.7149\n",
      "Epoch 23/30\n",
      "3515/3515 [==============================] - 17s 5ms/step - loss: 0.1993 - accuracy: 0.9151 - val_loss: 0.6725 - val_accuracy: 0.7054\n",
      "Epoch 24/30\n",
      "3515/3515 [==============================] - 16s 5ms/step - loss: 0.1984 - accuracy: 0.9157 - val_loss: 0.6381 - val_accuracy: 0.7160\n",
      "Epoch 25/30\n",
      "3515/3515 [==============================] - 16s 5ms/step - loss: 0.1968 - accuracy: 0.9171 - val_loss: 0.6895 - val_accuracy: 0.6954\n",
      "Epoch 26/30\n",
      "3515/3515 [==============================] - 17s 5ms/step - loss: 0.1957 - accuracy: 0.9176 - val_loss: 0.6536 - val_accuracy: 0.7139\n",
      "Epoch 27/30\n",
      "3515/3515 [==============================] - 16s 5ms/step - loss: 0.1952 - accuracy: 0.9181 - val_loss: 0.6380 - val_accuracy: 0.7287\n",
      "Epoch 28/30\n",
      "3515/3515 [==============================] - 17s 5ms/step - loss: 0.1938 - accuracy: 0.9181 - val_loss: 0.6532 - val_accuracy: 0.7208\n",
      "Epoch 29/30\n",
      "3515/3515 [==============================] - 17s 5ms/step - loss: 0.1919 - accuracy: 0.9187 - val_loss: 0.6723 - val_accuracy: 0.7116\n",
      "Epoch 30/30\n",
      "3515/3515 [==============================] - 16s 5ms/step - loss: 0.1901 - accuracy: 0.9212 - val_loss: 0.6708 - val_accuracy: 0.7191\n"
     ]
    }
   ],
   "source": [
    "model_four = Sequential([\n",
    "    Dense(units=256, input_dim=x_train_data.shape[1], activation='relu'),\n",
    "    Dropout(0.2),\n",
    "    Dense(units=256, activation='relu'),\n",
    "    Dropout(0.2),\n",
    "    Dense(units=1, activation='sigmoid')\n",
    "])\n",
    "\n",
    "model_four.compile(optimizer=optimizers.Adam(learning_rate=0.001), loss='binary_crossentropy', metrics=['accuracy'])\n",
    "\n",
    "fourth_training = model_four.fit(new_x_train_data, new_y_train_data, batch_size=32, epochs=30, validation_data=(x_test_data, y_test_data))"
   ]
  },
  {
   "cell_type": "markdown",
   "metadata": {},
   "source": [
    "### Testing accuracy\n",
    "We will now test the accuracy of our model."
   ]
  },
  {
   "cell_type": "code",
   "execution_count": 34,
   "metadata": {},
   "outputs": [
    {
     "name": "stdout",
     "output_type": "stream",
     "text": [
      "228/228 [==============================] - 0s 2ms/step\n",
      "              precision    recall  f1-score   support\n",
      "\n",
      "           0       0.11      0.56      0.19       420\n",
      "           1       0.96      0.73      0.83      6872\n",
      "\n",
      "    accuracy                           0.72      7292\n",
      "   macro avg       0.54      0.65      0.51      7292\n",
      "weighted avg       0.92      0.72      0.79      7292\n",
      "\n"
     ]
    }
   ],
   "source": [
    "from sklearn.metrics import classification_report\n",
    "\n",
    "\n",
    "test_accuracy = model_four.predict(x_test_data)\n",
    "test_accuracy = (test_accuracy > 0.5).astype(int)\n",
    "print(classification_report(y_test_data, test_accuracy))"
   ]
  },
  {
   "cell_type": "markdown",
   "metadata": {},
   "source": [
    "# Overfitting?\n",
    "\n",
    "First training"
   ]
  },
  {
   "cell_type": "code",
   "execution_count": 35,
   "metadata": {},
   "outputs": [
    {
     "data": {
      "image/png": "[encoded data removed]",
      "text/plain": [
       "<Figure size 432x288 with 1 Axes>"
      ]
     },
     "metadata": {
      "needs_background": "light"
     },
     "output_type": "display_data"
    },
    {
     "data": {
      "image/png": "[encoded data removed]",
      "text/plain": [
       "<Figure size 432x288 with 1 Axes>"
      ]
     },
     "metadata": {
      "needs_background": "light"
     },
     "output_type": "display_data"
    }
   ],
   "source": [
    "import matplotlib.pyplot as plt\n",
    "\n",
    "plt.plot(range(30), first_training.history[\"loss\"], label=\"training set\", color = \"blue\")\n",
    "plt.plot(range(30), first_training.history[\"val_loss\"], label=\"testing set\", color = \"orange\")\n",
    "plt.legend()\n",
    "plt.show()\n",
    "\n",
    "plt.plot(range(30), first_training.history[\"accuracy\"],  label=\"training set\", color = \"blue\")\n",
    "plt.plot(range(30), first_training.history[\"val_accuracy\"],  label=\"testing set\", color = \"orange\")\n",
    "plt.legend()\n",
    "plt.show()"
   ]
  },
  {
   "cell_type": "markdown",
   "metadata": {},
   "source": [
    "Second training"
   ]
  },
  {
   "cell_type": "code",
   "execution_count": 36,
   "metadata": {},
   "outputs": [
    {
     "data": {
      "image/png": "[encoded data removed]",
      "text/plain": [
       "<Figure size 432x288 with 1 Axes>"
      ]
     },
     "metadata": {
      "needs_background": "light"
     },
     "output_type": "display_data"
    },
    {
     "data": {
      "image/png": "[encoded data removed]",
      "text/plain": [
       "<Figure size 432x288 with 1 Axes>"
      ]
     },
     "metadata": {
      "needs_background": "light"
     },
     "output_type": "display_data"
    }
   ],
   "source": [
    "plt.plot(range(30), second_training.history[\"loss\"], label=\"training set\", color = \"blue\")\n",
    "plt.plot(range(30), second_training.history[\"val_loss\"], label=\"testing set\", color = \"orange\")\n",
    "plt.legend()\n",
    "plt.show()\n",
    "\n",
    "plt.plot(range(30), second_training.history[\"accuracy\"],  label=\"training set\", color = \"blue\")\n",
    "plt.plot(range(30), second_training.history[\"val_accuracy\"],  label=\"testing set\", color = \"orange\")\n",
    "plt.legend()\n",
    "plt.show()"
   ]
  },
  {
   "cell_type": "markdown",
   "metadata": {},
   "source": [
    "Third training"
   ]
  },
  {
   "cell_type": "code",
   "execution_count": 37,
   "metadata": {},
   "outputs": [
    {
     "data": {
      "image/png": "[encoded data removed]",
      "text/plain": [
       "<Figure size 432x288 with 1 Axes>"
      ]
     },
     "metadata": {
      "needs_background": "light"
     },
     "output_type": "display_data"
    },
    {
     "data": {
      "image/png": "[encoded data removed]",
      "text/plain": [
       "<Figure size 432x288 with 1 Axes>"
      ]
     },
     "metadata": {
      "needs_background": "light"
     },
     "output_type": "display_data"
    }
   ],
   "source": [
    "plt.plot(range(30), third_training.history[\"loss\"], label=\"training set\", color = \"blue\")\n",
    "plt.plot(range(30), third_training.history[\"val_loss\"], label=\"testing set\", color = \"orange\")\n",
    "plt.legend()\n",
    "plt.show()\n",
    "\n",
    "plt.plot(range(30), third_training.history[\"accuracy\"],  label=\"training set\", color = \"blue\")\n",
    "plt.plot(range(30), third_training.history[\"val_accuracy\"],  label=\"testing set\", color = \"orange\")\n",
    "plt.legend()\n",
    "plt.show()"
   ]
  },
  {
   "cell_type": "markdown",
   "metadata": {},
   "source": [
    "Fourth training"
   ]
  },
  {
   "cell_type": "code",
   "execution_count": 38,
   "metadata": {},
   "outputs": [
    {
     "data": {
      "image/png": "[encoded data removed]",
      "text/plain": [
       "<Figure size 432x288 with 1 Axes>"
      ]
     },
     "metadata": {
      "needs_background": "light"
     },
     "output_type": "display_data"
    },
    {
     "data": {
      "image/png": "[encoded data removed]",
      "text/plain": [
       "<Figure size 432x288 with 1 Axes>"
      ]
     },
     "metadata": {
      "needs_background": "light"
     },
     "output_type": "display_data"
    }
   ],
   "source": [
    "plt.plot(range(30), fourth_training.history[\"loss\"], label=\"training set\", color = \"blue\")\n",
    "plt.plot(range(30), fourth_training.history[\"val_loss\"], label=\"testing set\", color = \"orange\")\n",
    "plt.legend()\n",
    "plt.show()\n",
    "\n",
    "plt.plot(range(30), fourth_training.history[\"accuracy\"],  label=\"training set\", color = \"blue\")\n",
    "plt.plot(range(30), fourth_training.history[\"val_accuracy\"],  label=\"testing set\", color = \"orange\")\n",
    "plt.legend()\n",
    "plt.show()"
   ]
  },
  {
   "cell_type": "markdown",
   "metadata": {},
   "source": [
    "Running model on actual labelled data shows a significantly better performance than adding layers of pseudo-labelled data. We try to run the model on the actual labelled data with more sophisticated layers."
   ]
  },
  {
   "cell_type": "code",
   "execution_count": 39,
   "metadata": {},
   "outputs": [
    {
     "name": "stdout",
     "output_type": "stream",
     "text": [
      "Model: \"sequential_4\"\n",
      "_________________________________________________________________\n",
      " Layer (type)                Output Shape              Param #   \n",
      "=================================================================\n",
      " dense_12 (Dense)            (None, 300)               10500     \n",
      "                                                                 \n",
      " dense_13 (Dense)            (None, 128)               38528     \n",
      "                                                                 \n",
      " dense_14 (Dense)            (None, 1)                 129       \n",
      "                                                                 \n",
      "=================================================================\n",
      "Total params: 49,157\n",
      "Trainable params: 49,157\n",
      "Non-trainable params: 0\n",
      "_________________________________________________________________\n",
      "Epoch 1/120\n",
      "6849/6849 [==============================] - 20s 3ms/step - loss: 0.6188 - accuracy: 0.6423 - val_loss: 0.5716 - val_accuracy: 0.6673\n",
      "Epoch 2/120\n",
      "6849/6849 [==============================] - 19s 3ms/step - loss: 0.4933 - accuracy: 0.7530 - val_loss: 0.4946 - val_accuracy: 0.7639\n",
      "Epoch 3/120\n",
      "6849/6849 [==============================] - 18s 3ms/step - loss: 0.4287 - accuracy: 0.7918 - val_loss: 0.5960 - val_accuracy: 0.7023\n",
      "Epoch 4/120\n",
      "6849/6849 [==============================] - 18s 3ms/step - loss: 0.3923 - accuracy: 0.8136 - val_loss: 0.4785 - val_accuracy: 0.7783\n",
      "Epoch 5/120\n",
      "6849/6849 [==============================] - 17s 2ms/step - loss: 0.3691 - accuracy: 0.8241 - val_loss: 0.4462 - val_accuracy: 0.8070\n",
      "Epoch 6/120\n",
      "6849/6849 [==============================] - 19s 3ms/step - loss: 0.3511 - accuracy: 0.8334 - val_loss: 0.4522 - val_accuracy: 0.8043\n",
      "Epoch 7/120\n",
      "6849/6849 [==============================] - 23s 3ms/step - loss: 0.3388 - accuracy: 0.8400 - val_loss: 0.5526 - val_accuracy: 0.7586\n",
      "Epoch 8/120\n",
      "6849/6849 [==============================] - 18s 3ms/step - loss: 0.3273 - accuracy: 0.8459 - val_loss: 0.4533 - val_accuracy: 0.8128\n",
      "Epoch 9/120\n",
      "6849/6849 [==============================] - 18s 3ms/step - loss: 0.3170 - accuracy: 0.8510 - val_loss: 0.4631 - val_accuracy: 0.8260\n",
      "Epoch 10/120\n",
      "6849/6849 [==============================] - 18s 3ms/step - loss: 0.3092 - accuracy: 0.8554 - val_loss: 0.4814 - val_accuracy: 0.8031\n",
      "Epoch 11/120\n",
      "6849/6849 [==============================] - 18s 3ms/step - loss: 0.3048 - accuracy: 0.8582 - val_loss: 0.4543 - val_accuracy: 0.8217\n",
      "Epoch 12/120\n",
      "6849/6849 [==============================] - 18s 3ms/step - loss: 0.2986 - accuracy: 0.8612 - val_loss: 0.4365 - val_accuracy: 0.8232\n",
      "Epoch 13/120\n",
      "6849/6849 [==============================] - 18s 3ms/step - loss: 0.2923 - accuracy: 0.8637 - val_loss: 0.4761 - val_accuracy: 0.8055\n",
      "Epoch 14/120\n",
      "6849/6849 [==============================] - 17s 3ms/step - loss: 0.2871 - accuracy: 0.8677 - val_loss: 0.4631 - val_accuracy: 0.8319\n",
      "Epoch 15/120\n",
      "6849/6849 [==============================] - 19s 3ms/step - loss: 0.2840 - accuracy: 0.8685 - val_loss: 0.5166 - val_accuracy: 0.7980\n",
      "Epoch 16/120\n",
      "6849/6849 [==============================] - 18s 3ms/step - loss: 0.2788 - accuracy: 0.8706 - val_loss: 0.4661 - val_accuracy: 0.8278\n",
      "Epoch 17/120\n",
      "6849/6849 [==============================] - 18s 3ms/step - loss: 0.2756 - accuracy: 0.8720 - val_loss: 0.4940 - val_accuracy: 0.8088\n",
      "Epoch 18/120\n",
      "6849/6849 [==============================] - 18s 3ms/step - loss: 0.2730 - accuracy: 0.8739 - val_loss: 0.5237 - val_accuracy: 0.7857\n",
      "Epoch 19/120\n",
      "6849/6849 [==============================] - 18s 3ms/step - loss: 0.2697 - accuracy: 0.8741 - val_loss: 0.4526 - val_accuracy: 0.8398\n",
      "Epoch 20/120\n",
      "6849/6849 [==============================] - 18s 3ms/step - loss: 0.2661 - accuracy: 0.8759 - val_loss: 0.5025 - val_accuracy: 0.7984\n",
      "Epoch 21/120\n",
      "6849/6849 [==============================] - 16s 2ms/step - loss: 0.2618 - accuracy: 0.8782 - val_loss: 0.4542 - val_accuracy: 0.8465\n",
      "Epoch 22/120\n",
      "6849/6849 [==============================] - 18s 3ms/step - loss: 0.2605 - accuracy: 0.8797 - val_loss: 0.5216 - val_accuracy: 0.7946\n",
      "Epoch 23/120\n",
      "6849/6849 [==============================] - 18s 3ms/step - loss: 0.2572 - accuracy: 0.8808 - val_loss: 0.4256 - val_accuracy: 0.8618\n",
      "Epoch 24/120\n",
      "6849/6849 [==============================] - 20s 3ms/step - loss: 0.2567 - accuracy: 0.8809 - val_loss: 0.4967 - val_accuracy: 0.8206\n",
      "Epoch 25/120\n",
      "6849/6849 [==============================] - 27s 4ms/step - loss: 0.2547 - accuracy: 0.8817 - val_loss: 0.5232 - val_accuracy: 0.7988\n",
      "Epoch 26/120\n",
      "6849/6849 [==============================] - 27s 4ms/step - loss: 0.2529 - accuracy: 0.8850 - val_loss: 0.4614 - val_accuracy: 0.8468\n",
      "Epoch 27/120\n",
      "6849/6849 [==============================] - 27s 4ms/step - loss: 0.2496 - accuracy: 0.8838 - val_loss: 0.4780 - val_accuracy: 0.8231\n",
      "Epoch 28/120\n",
      "6849/6849 [==============================] - 27s 4ms/step - loss: 0.2479 - accuracy: 0.8849 - val_loss: 0.5055 - val_accuracy: 0.8043\n",
      "Epoch 29/120\n",
      "6849/6849 [==============================] - 27s 4ms/step - loss: 0.2456 - accuracy: 0.8873 - val_loss: 0.5431 - val_accuracy: 0.8022\n",
      "Epoch 30/120\n",
      "6849/6849 [==============================] - 27s 4ms/step - loss: 0.2440 - accuracy: 0.8881 - val_loss: 0.4609 - val_accuracy: 0.8544\n",
      "Epoch 31/120\n",
      "6849/6849 [==============================] - 27s 4ms/step - loss: 0.2417 - accuracy: 0.8882 - val_loss: 0.4991 - val_accuracy: 0.8357\n",
      "Epoch 32/120\n",
      "6849/6849 [==============================] - 27s 4ms/step - loss: 0.2395 - accuracy: 0.8903 - val_loss: 0.4855 - val_accuracy: 0.8450\n",
      "Epoch 33/120\n",
      "6849/6849 [==============================] - 27s 4ms/step - loss: 0.2396 - accuracy: 0.8889 - val_loss: 0.4776 - val_accuracy: 0.8310\n",
      "Epoch 34/120\n",
      "6849/6849 [==============================] - 17s 2ms/step - loss: 0.2391 - accuracy: 0.8908 - val_loss: 0.5433 - val_accuracy: 0.8012\n",
      "Epoch 35/120\n",
      "6849/6849 [==============================] - 18s 3ms/step - loss: 0.2339 - accuracy: 0.8931 - val_loss: 0.5048 - val_accuracy: 0.8205\n",
      "Epoch 36/120\n",
      "6849/6849 [==============================] - 18s 3ms/step - loss: 0.2337 - accuracy: 0.8934 - val_loss: 0.4718 - val_accuracy: 0.8763\n",
      "Epoch 37/120\n",
      "6849/6849 [==============================] - 17s 2ms/step - loss: 0.2339 - accuracy: 0.8921 - val_loss: 0.4976 - val_accuracy: 0.8530\n",
      "Epoch 38/120\n",
      "6849/6849 [==============================] - 18s 3ms/step - loss: 0.2325 - accuracy: 0.8947 - val_loss: 0.5045 - val_accuracy: 0.8450\n",
      "Epoch 39/120\n",
      "6849/6849 [==============================] - 18s 3ms/step - loss: 0.2312 - accuracy: 0.8940 - val_loss: 0.4875 - val_accuracy: 0.8487\n",
      "Epoch 40/120\n",
      "6849/6849 [==============================] - 18s 3ms/step - loss: 0.2298 - accuracy: 0.8949 - val_loss: 0.5015 - val_accuracy: 0.8371\n",
      "Epoch 41/120\n",
      "6849/6849 [==============================] - 18s 3ms/step - loss: 0.2282 - accuracy: 0.8948 - val_loss: 0.5407 - val_accuracy: 0.8013\n",
      "Epoch 42/120\n",
      "6849/6849 [==============================] - 18s 3ms/step - loss: 0.2281 - accuracy: 0.8957 - val_loss: 0.5150 - val_accuracy: 0.8378\n",
      "Epoch 43/120\n",
      "6849/6849 [==============================] - 18s 3ms/step - loss: 0.2275 - accuracy: 0.8970 - val_loss: 0.5370 - val_accuracy: 0.8158\n",
      "Epoch 44/120\n",
      "6849/6849 [==============================] - 17s 3ms/step - loss: 0.2250 - accuracy: 0.8966 - val_loss: 0.5084 - val_accuracy: 0.8575\n",
      "Epoch 45/120\n",
      "6849/6849 [==============================] - 18s 3ms/step - loss: 0.2242 - accuracy: 0.8981 - val_loss: 0.4937 - val_accuracy: 0.8526\n",
      "Epoch 46/120\n",
      "6849/6849 [==============================] - 18s 3ms/step - loss: 0.2232 - accuracy: 0.8977 - val_loss: 0.4853 - val_accuracy: 0.8619\n",
      "Epoch 47/120\n",
      "6849/6849 [==============================] - 18s 3ms/step - loss: 0.2236 - accuracy: 0.8978 - val_loss: 0.4711 - val_accuracy: 0.8696\n",
      "Epoch 48/120\n",
      "6849/6849 [==============================] - 18s 3ms/step - loss: 0.2222 - accuracy: 0.8992 - val_loss: 0.5180 - val_accuracy: 0.8511\n",
      "Epoch 49/120\n",
      "6849/6849 [==============================] - 18s 3ms/step - loss: 0.2215 - accuracy: 0.8989 - val_loss: 0.5284 - val_accuracy: 0.8404\n",
      "Epoch 50/120\n",
      "6849/6849 [==============================] - 17s 3ms/step - loss: 0.2205 - accuracy: 0.8990 - val_loss: 0.5212 - val_accuracy: 0.8505\n",
      "Epoch 51/120\n",
      "6849/6849 [==============================] - 17s 2ms/step - loss: 0.2198 - accuracy: 0.8997 - val_loss: 0.5325 - val_accuracy: 0.8369\n",
      "Epoch 52/120\n",
      "6849/6849 [==============================] - 18s 3ms/step - loss: 0.2173 - accuracy: 0.8999 - val_loss: 0.5238 - val_accuracy: 0.8652\n",
      "Epoch 53/120\n",
      "6849/6849 [==============================] - 18s 3ms/step - loss: 0.2173 - accuracy: 0.9017 - val_loss: 0.5942 - val_accuracy: 0.8017\n",
      "Epoch 54/120\n",
      "6849/6849 [==============================] - 18s 3ms/step - loss: 0.2166 - accuracy: 0.9024 - val_loss: 0.5565 - val_accuracy: 0.8394\n",
      "Epoch 55/120\n",
      "6849/6849 [==============================] - 18s 3ms/step - loss: 0.2166 - accuracy: 0.9019 - val_loss: 0.5413 - val_accuracy: 0.8358\n",
      "Epoch 56/120\n",
      "6849/6849 [==============================] - 18s 3ms/step - loss: 0.2163 - accuracy: 0.9010 - val_loss: 0.4941 - val_accuracy: 0.8609\n",
      "Epoch 57/120\n",
      "6849/6849 [==============================] - 18s 3ms/step - loss: 0.2149 - accuracy: 0.9023 - val_loss: 0.5368 - val_accuracy: 0.8306\n",
      "Epoch 58/120\n",
      "6849/6849 [==============================] - 18s 3ms/step - loss: 0.2126 - accuracy: 0.9031 - val_loss: 0.5410 - val_accuracy: 0.8491\n",
      "Epoch 59/120\n",
      "6849/6849 [==============================] - 18s 3ms/step - loss: 0.2130 - accuracy: 0.9035 - val_loss: 0.5410 - val_accuracy: 0.8442\n",
      "Epoch 60/120\n",
      "6849/6849 [==============================] - 18s 3ms/step - loss: 0.2126 - accuracy: 0.9035 - val_loss: 0.5925 - val_accuracy: 0.8461\n",
      "Epoch 61/120\n",
      "6849/6849 [==============================] - 18s 3ms/step - loss: 0.2118 - accuracy: 0.9043 - val_loss: 0.5661 - val_accuracy: 0.8286\n",
      "Epoch 62/120\n",
      "6849/6849 [==============================] - 18s 3ms/step - loss: 0.2111 - accuracy: 0.9039 - val_loss: 0.6324 - val_accuracy: 0.8046\n",
      "Epoch 63/120\n",
      "6849/6849 [==============================] - 18s 3ms/step - loss: 0.2096 - accuracy: 0.9052 - val_loss: 0.5489 - val_accuracy: 0.8690\n",
      "Epoch 64/120\n",
      "6849/6849 [==============================] - 18s 3ms/step - loss: 0.2107 - accuracy: 0.9041 - val_loss: 0.6006 - val_accuracy: 0.8057\n",
      "Epoch 65/120\n",
      "6849/6849 [==============================] - 18s 3ms/step - loss: 0.2097 - accuracy: 0.9055 - val_loss: 0.5854 - val_accuracy: 0.8445\n",
      "Epoch 66/120\n",
      "6849/6849 [==============================] - 18s 3ms/step - loss: 0.2091 - accuracy: 0.9058 - val_loss: 0.5466 - val_accuracy: 0.8478\n",
      "Epoch 67/120\n",
      "6849/6849 [==============================] - 16s 2ms/step - loss: 0.2087 - accuracy: 0.9059 - val_loss: 0.5800 - val_accuracy: 0.8427\n",
      "Epoch 68/120\n",
      "6849/6849 [==============================] - 18s 3ms/step - loss: 0.2079 - accuracy: 0.9063 - val_loss: 0.5796 - val_accuracy: 0.8538\n",
      "Epoch 69/120\n",
      "6849/6849 [==============================] - 19s 3ms/step - loss: 0.2076 - accuracy: 0.9065 - val_loss: 0.6258 - val_accuracy: 0.8363\n",
      "Epoch 70/120\n",
      "6849/6849 [==============================] - 27s 4ms/step - loss: 0.2089 - accuracy: 0.9059 - val_loss: 0.5755 - val_accuracy: 0.8623\n",
      "Epoch 71/120\n",
      "6849/6849 [==============================] - 27s 4ms/step - loss: 0.2052 - accuracy: 0.9067 - val_loss: 0.6031 - val_accuracy: 0.8526\n",
      "Epoch 72/120\n",
      "6849/6849 [==============================] - 27s 4ms/step - loss: 0.2042 - accuracy: 0.9076 - val_loss: 0.6058 - val_accuracy: 0.8581\n",
      "Epoch 73/120\n",
      "6849/6849 [==============================] - 21s 3ms/step - loss: 0.2059 - accuracy: 0.9058 - val_loss: 0.5803 - val_accuracy: 0.8663\n",
      "Epoch 74/120\n",
      "6849/6849 [==============================] - 18s 3ms/step - loss: 0.2048 - accuracy: 0.9075 - val_loss: 0.6417 - val_accuracy: 0.8390\n",
      "Epoch 75/120\n",
      "6849/6849 [==============================] - 18s 3ms/step - loss: 0.2054 - accuracy: 0.9073 - val_loss: 0.6303 - val_accuracy: 0.8320\n",
      "Epoch 76/120\n",
      "6849/6849 [==============================] - 18s 3ms/step - loss: 0.2037 - accuracy: 0.9080 - val_loss: 0.5845 - val_accuracy: 0.8786\n",
      "Epoch 77/120\n",
      "6849/6849 [==============================] - 18s 3ms/step - loss: 0.2040 - accuracy: 0.9081 - val_loss: 0.6105 - val_accuracy: 0.8397\n",
      "Epoch 78/120\n",
      "6849/6849 [==============================] - 18s 3ms/step - loss: 0.2024 - accuracy: 0.9096 - val_loss: 0.6078 - val_accuracy: 0.8520\n",
      "Epoch 79/120\n",
      "6849/6849 [==============================] - 18s 3ms/step - loss: 0.2027 - accuracy: 0.9085 - val_loss: 0.6065 - val_accuracy: 0.8402\n",
      "Epoch 80/120\n",
      "6849/6849 [==============================] - 18s 3ms/step - loss: 0.2024 - accuracy: 0.9089 - val_loss: 0.6383 - val_accuracy: 0.8692\n",
      "Epoch 81/120\n",
      "6849/6849 [==============================] - 18s 3ms/step - loss: 0.2025 - accuracy: 0.9095 - val_loss: 0.6233 - val_accuracy: 0.8552\n",
      "Epoch 82/120\n",
      "6849/6849 [==============================] - 18s 3ms/step - loss: 0.2036 - accuracy: 0.9083 - val_loss: 0.5938 - val_accuracy: 0.8726\n",
      "Epoch 83/120\n",
      "6849/6849 [==============================] - 18s 3ms/step - loss: 0.2007 - accuracy: 0.9104 - val_loss: 0.6406 - val_accuracy: 0.8625\n",
      "Epoch 84/120\n",
      "6849/6849 [==============================] - 18s 3ms/step - loss: 0.1986 - accuracy: 0.9106 - val_loss: 0.6665 - val_accuracy: 0.8364\n",
      "Epoch 85/120\n",
      "6849/6849 [==============================] - 18s 3ms/step - loss: 0.2004 - accuracy: 0.9103 - val_loss: 0.6985 - val_accuracy: 0.8398\n",
      "Epoch 86/120\n",
      "6849/6849 [==============================] - 18s 3ms/step - loss: 0.2003 - accuracy: 0.9097 - val_loss: 0.6820 - val_accuracy: 0.8468\n",
      "Epoch 87/120\n",
      "6849/6849 [==============================] - 18s 3ms/step - loss: 0.1993 - accuracy: 0.9109 - val_loss: 0.7029 - val_accuracy: 0.8312\n",
      "Epoch 88/120\n",
      "6849/6849 [==============================] - 18s 3ms/step - loss: 0.1987 - accuracy: 0.9105 - val_loss: 0.7079 - val_accuracy: 0.8579\n",
      "Epoch 89/120\n",
      "6849/6849 [==============================] - 18s 3ms/step - loss: 0.1983 - accuracy: 0.9115 - val_loss: 0.6767 - val_accuracy: 0.8557\n",
      "Epoch 90/120\n",
      "6849/6849 [==============================] - 18s 3ms/step - loss: 0.1983 - accuracy: 0.9111 - val_loss: 0.6451 - val_accuracy: 0.8579\n",
      "Epoch 91/120\n",
      "6849/6849 [==============================] - 18s 3ms/step - loss: 0.1963 - accuracy: 0.9118 - val_loss: 0.6370 - val_accuracy: 0.8721\n",
      "Epoch 92/120\n",
      "6849/6849 [==============================] - 18s 3ms/step - loss: 0.1981 - accuracy: 0.9112 - val_loss: 0.6799 - val_accuracy: 0.8430\n",
      "Epoch 93/120\n",
      "6849/6849 [==============================] - 17s 3ms/step - loss: 0.1969 - accuracy: 0.9114 - val_loss: 0.7567 - val_accuracy: 0.8452\n",
      "Epoch 94/120\n",
      "6849/6849 [==============================] - 18s 3ms/step - loss: 0.1967 - accuracy: 0.9118 - val_loss: 0.7046 - val_accuracy: 0.8656\n",
      "Epoch 95/120\n",
      "6849/6849 [==============================] - 18s 3ms/step - loss: 0.1985 - accuracy: 0.9117 - val_loss: 0.6721 - val_accuracy: 0.8465\n",
      "Epoch 96/120\n",
      "6849/6849 [==============================] - 18s 3ms/step - loss: 0.1959 - accuracy: 0.9121 - val_loss: 0.7129 - val_accuracy: 0.8321\n",
      "Epoch 97/120\n",
      "6849/6849 [==============================] - 17s 2ms/step - loss: 0.1962 - accuracy: 0.9108 - val_loss: 0.7008 - val_accuracy: 0.8313\n",
      "Epoch 98/120\n",
      "6849/6849 [==============================] - 18s 3ms/step - loss: 0.1948 - accuracy: 0.9119 - val_loss: 0.6640 - val_accuracy: 0.8646\n",
      "Epoch 99/120\n",
      "6849/6849 [==============================] - 17s 2ms/step - loss: 0.1953 - accuracy: 0.9106 - val_loss: 0.6771 - val_accuracy: 0.8605\n",
      "Epoch 100/120\n",
      "6849/6849 [==============================] - 18s 3ms/step - loss: 0.1955 - accuracy: 0.9123 - val_loss: 0.7544 - val_accuracy: 0.8497\n",
      "Epoch 101/120\n",
      "6849/6849 [==============================] - 18s 3ms/step - loss: 0.1947 - accuracy: 0.9123 - val_loss: 0.7188 - val_accuracy: 0.8673\n",
      "Epoch 102/120\n",
      "6849/6849 [==============================] - 18s 3ms/step - loss: 0.1944 - accuracy: 0.9129 - val_loss: 0.7372 - val_accuracy: 0.8557\n",
      "Epoch 103/120\n",
      "6849/6849 [==============================] - 18s 3ms/step - loss: 0.1935 - accuracy: 0.9133 - val_loss: 0.7797 - val_accuracy: 0.8352\n",
      "Epoch 104/120\n",
      "6849/6849 [==============================] - 18s 3ms/step - loss: 0.1942 - accuracy: 0.9119 - val_loss: 0.7517 - val_accuracy: 0.8435\n",
      "Epoch 105/120\n",
      "6849/6849 [==============================] - 18s 3ms/step - loss: 0.1946 - accuracy: 0.9128 - val_loss: 0.7625 - val_accuracy: 0.8541\n",
      "Epoch 106/120\n",
      "6849/6849 [==============================] - 18s 3ms/step - loss: 0.1929 - accuracy: 0.9136 - val_loss: 0.7400 - val_accuracy: 0.8690\n",
      "Epoch 107/120\n",
      "6849/6849 [==============================] - 17s 3ms/step - loss: 0.1932 - accuracy: 0.9142 - val_loss: 0.7585 - val_accuracy: 0.8612\n",
      "Epoch 108/120\n",
      "6849/6849 [==============================] - 18s 3ms/step - loss: 0.1924 - accuracy: 0.9135 - val_loss: 0.8038 - val_accuracy: 0.8619\n",
      "Epoch 109/120\n",
      "6849/6849 [==============================] - 18s 3ms/step - loss: 0.1931 - accuracy: 0.9145 - val_loss: 0.7625 - val_accuracy: 0.8471\n",
      "Epoch 110/120\n",
      "6849/6849 [==============================] - 18s 3ms/step - loss: 0.1930 - accuracy: 0.9129 - val_loss: 0.8024 - val_accuracy: 0.8353\n",
      "Epoch 111/120\n",
      "6849/6849 [==============================] - 18s 3ms/step - loss: 0.1919 - accuracy: 0.9141 - val_loss: 0.8234 - val_accuracy: 0.8252\n",
      "Epoch 112/120\n",
      "6849/6849 [==============================] - 18s 3ms/step - loss: 0.1933 - accuracy: 0.9134 - val_loss: 0.7866 - val_accuracy: 0.8582\n",
      "Epoch 113/120\n",
      "6849/6849 [==============================] - 18s 3ms/step - loss: 0.1913 - accuracy: 0.9150 - val_loss: 0.8321 - val_accuracy: 0.8711\n",
      "Epoch 114/120\n",
      "6849/6849 [==============================] - 18s 3ms/step - loss: 0.1922 - accuracy: 0.9138 - val_loss: 0.7578 - val_accuracy: 0.8609\n",
      "Epoch 115/120\n",
      "6849/6849 [==============================] - 18s 3ms/step - loss: 0.1920 - accuracy: 0.9153 - val_loss: 0.8270 - val_accuracy: 0.8371\n",
      "Epoch 116/120\n",
      "6849/6849 [==============================] - 17s 2ms/step - loss: 0.1915 - accuracy: 0.9139 - val_loss: 0.8273 - val_accuracy: 0.8533\n",
      "Epoch 117/120\n",
      "6849/6849 [==============================] - 18s 3ms/step - loss: 0.1909 - accuracy: 0.9144 - val_loss: 0.8903 - val_accuracy: 0.8541\n",
      "Epoch 118/120\n",
      "6849/6849 [==============================] - 18s 3ms/step - loss: 0.1913 - accuracy: 0.9155 - val_loss: 0.8486 - val_accuracy: 0.8752\n",
      "Epoch 119/120\n",
      "6849/6849 [==============================] - 18s 3ms/step - loss: 0.1901 - accuracy: 0.9150 - val_loss: 0.8357 - val_accuracy: 0.8692\n",
      "Epoch 120/120\n",
      "6849/6849 [==============================] - 18s 3ms/step - loss: 0.1879 - accuracy: 0.9160 - val_loss: 0.9210 - val_accuracy: 0.8638\n"
     ]
    }
   ],
   "source": [
    "pure_model = Sequential([\n",
    "    Dense(units=300, input_dim=x_train_data.shape[1], activation='relu'),\n",
    "    Dense(units=128, activation='relu'),\n",
    "    Dense(units=1, activation='sigmoid')\n",
    "])\n",
    "\n",
    "pure_model.summary()\n",
    "\n",
    "pure_model.compile(optimizer=optimizers.Adam(learning_rate=0.001), loss='binary_crossentropy', metrics=['accuracy'])\n",
    "\n",
    "pure_training = pure_model.fit(x_train_data, y_train_data, batch_size=8, epochs=120, validation_data=(x_test_data, y_test_data))"
   ]
  },
  {
   "cell_type": "markdown",
   "metadata": {},
   "source": [
    "# Plotting of performance"
   ]
  },
  {
   "cell_type": "code",
   "execution_count": 40,
   "metadata": {},
   "outputs": [
    {
     "data": {
      "image/png": "[encoded data removed]",
      "text/plain": [
       "<Figure size 432x288 with 1 Axes>"
      ]
     },
     "metadata": {
      "needs_background": "light"
     },
     "output_type": "display_data"
    },
    {
     "data": {
      "image/png": "[encoded data removed]",
      "text/plain": [
       "<Figure size 432x288 with 1 Axes>"
      ]
     },
     "metadata": {
      "needs_background": "light"
     },
     "output_type": "display_data"
    }
   ],
   "source": [
    "plt.plot(range(120), pure_training.history[\"loss\"], label=\"training set\", color = \"blue\")\n",
    "plt.plot(range(120), pure_training.history[\"val_loss\"], label=\"testing set\", color = \"orange\")\n",
    "plt.legend()\n",
    "plt.show()\n",
    "\n",
    "plt.plot(range(120), pure_training.history[\"accuracy\"],  label=\"training set\", color = \"blue\")\n",
    "plt.plot(range(120), pure_training.history[\"val_accuracy\"],  label=\"testing set\", color = \"orange\")\n",
    "plt.legend()\n",
    "plt.show()"
   ]
  },
  {
   "cell_type": "markdown",
   "metadata": {},
   "source": [
    "# Accuracy of pure model"
   ]
  },
  {
   "cell_type": "code",
   "execution_count": 41,
   "metadata": {},
   "outputs": [
    {
     "name": "stdout",
     "output_type": "stream",
     "text": [
      "228/228 [==============================] - 1s 2ms/step\n",
      "              precision    recall  f1-score   support\n",
      "\n",
      "           0       0.19      0.40      0.26       420\n",
      "           1       0.96      0.89      0.93      6872\n",
      "\n",
      "    accuracy                           0.86      7292\n",
      "   macro avg       0.57      0.65      0.59      7292\n",
      "weighted avg       0.92      0.86      0.89      7292\n",
      "\n"
     ]
    }
   ],
   "source": [
    "pure_model_prediction = pure_model.predict(x_test_data)\n",
    "pure_model_prediction = (pure_model_prediction > 0.5).astype(int)\n",
    "print(classification_report(y_test_data, pure_model_prediction))"
   ]
  }
 ],
 "metadata": {
  "kernelspec": {
   "display_name": "Python 3.9.13 64-bit (microsoft store)",
   "language": "python",
   "name": "python3"
  },
  "language_info": {
   "codemirror_mode": {
    "name": "ipython",
    "version": 3
   },
   "file_extension": ".py",
   "mimetype": "text/x-python",
   "name": "python",
   "nbconvert_exporter": "python",
   "pygments_lexer": "ipython3",
   "version": "3.9.13"
  },
  "orig_nbformat": 4,
  "vscode": {
   "interpreter": {
    "hash": "e545a6e027712da274986a0f0871a5356383609221311d798914a1213fea45b4"
   }
  }
 },
 "nbformat": 4,
 "nbformat_minor": 2
}
