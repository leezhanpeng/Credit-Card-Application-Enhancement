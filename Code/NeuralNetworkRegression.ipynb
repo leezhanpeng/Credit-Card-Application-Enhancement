{
 "cells": [
  {
   "cell_type": "markdown",
   "metadata": {},
   "source": [
    "# Import libraries"
   ]
  },
  {
   "cell_type": "code",
   "execution_count": 1,
   "metadata": {},
   "outputs": [],
   "source": [
    "import numpy as np\n",
    "import pandas as pd"
   ]
  },
  {
   "cell_type": "markdown",
   "metadata": {},
   "source": [
    "# Load data"
   ]
  },
  {
   "cell_type": "code",
   "execution_count": 3,
   "metadata": {},
   "outputs": [],
   "source": [
    "encoded_applications = pd.read_csv(\"../Dataset/processed_applications.csv\")\n",
    "credits = pd.read_csv(\"../Dataset/scores.csv\")"
   ]
  },
  {
   "cell_type": "markdown",
   "metadata": {},
   "source": [
    "# Adjust Data\n",
    "We split the data to train."
   ]
  },
  {
   "cell_type": "code",
   "execution_count": 18,
   "metadata": {},
   "outputs": [],
   "source": [
    "updated_applicants = pd.merge(encoded_applications, credits, on='id', how='left')\n",
    "updated_applicants = updated_applicants.drop(['id'], axis=1)"
   ]
  },
  {
   "cell_type": "code",
   "execution_count": 19,
   "metadata": {},
   "outputs": [],
   "source": [
    "applicants_w_records = updated_applicants.dropna(subset = [\"total_score\"])\n",
    "applicants_no_records = updated_applicants.loc[updated_applicants[\"total_score\"].isna()]\n"
   ]
  },
  {
   "cell_type": "markdown",
   "metadata": {},
   "source": [
    "We split away around 20% of the applicants with records as test data."
   ]
  },
  {
   "cell_type": "code",
   "execution_count": 20,
   "metadata": {},
   "outputs": [],
   "source": [
    "removal_index_labeled = range(0, len(applicants_w_records), 5)\n",
    "test_data = applicants_w_records.reset_index().filter(removal_index_labeled, axis=0)\n",
    "train_data = applicants_w_records.reset_index().drop(removal_index_labeled, axis=0)"
   ]
  },
  {
   "cell_type": "code",
   "execution_count": 21,
   "metadata": {},
   "outputs": [],
   "source": [
    "x_test_data = test_data.drop(['credit_history_score', 'duration_score', 'total_score'], axis=1).to_numpy(dtype=float)\n",
    "y_test_data = test_data['total_score'].to_numpy(dtype=float)\n",
    "x_train_data = train_data.drop(['credit_history_score', 'duration_score', 'total_score'], axis=1).to_numpy(dtype=float)\n",
    "y_train_data = train_data['total_score'].to_numpy(dtype=float)"
   ]
  },
  {
   "cell_type": "markdown",
   "metadata": {},
   "source": [
    "We split the unlabelled data into 3 sets."
   ]
  },
  {
   "cell_type": "code",
   "execution_count": 22,
   "metadata": {},
   "outputs": [],
   "source": [
    "removal_index_unlabelled1 = range(0, len(applicants_no_records), 3)\n",
    "removal_index_unlabelled2 = range(1, len(applicants_no_records), 3)\n",
    "removal_index_unlabelled3 = range(2, len(applicants_no_records), 3)\n",
    "unlabelled_data_1 = applicants_no_records.reset_index().filter(removal_index_unlabelled1, axis=0)\n",
    "unlabelled_data_2 = applicants_no_records.reset_index().filter(removal_index_unlabelled2, axis=0)\n",
    "unlabelled_data_3 = applicants_no_records.reset_index().filter(removal_index_unlabelled3, axis=0)\n",
    "\n",
    "x_unlabelled_data_1 = unlabelled_data_1.drop(['credit_history_score', 'duration_score', 'total_score'], axis=1).to_numpy(dtype=float)\n",
    "x_unlabelled_data_2 = unlabelled_data_2.drop(['credit_history_score', 'duration_score', 'total_score'], axis=1).to_numpy(dtype=float)\n",
    "x_unlabelled_data_3 = unlabelled_data_3.drop(['credit_history_score', 'duration_score', 'total_score'], axis=1).to_numpy(dtype=float)"
   ]
  },
  {
   "cell_type": "markdown",
   "metadata": {},
   "source": [
    "We remove first column as they are indexes."
   ]
  },
  {
   "cell_type": "code",
   "execution_count": 23,
   "metadata": {},
   "outputs": [],
   "source": [
    "x_test_data = np.delete(x_test_data, 0, axis=1)\n",
    "x_train_data = np.delete(x_train_data, 0, axis=1)\n",
    "x_unlabelled_data_1 = np.delete(x_unlabelled_data_1, 0, axis=1)\n",
    "x_unlabelled_data_2 = np.delete(x_unlabelled_data_2, 0, axis=1)\n",
    "x_unlabelled_data_3 = np.delete(x_unlabelled_data_3, 0, axis=1)"
   ]
  },
  {
   "cell_type": "markdown",
   "metadata": {},
   "source": [
    "# Semi-supervised Learning\n",
    "We will now use the learning model and implement Neural Network.\n",
    "\n",
    "Datasets:\n",
    "* x_test_data\n",
    "* y_test_data\n",
    "* x_train_data\n",
    "* y_train_data\n",
    "* x_unlabelled_data_1\n",
    "* x_unlabelled_data_2\n",
    "* x_unlabelled_data_3"
   ]
  },
  {
   "cell_type": "markdown",
   "metadata": {},
   "source": [
    "## Neural Network\n",
    "We first create our NN model."
   ]
  },
  {
   "cell_type": "code",
   "execution_count": 24,
   "metadata": {},
   "outputs": [],
   "source": [
    "import keras\n",
    "\n",
    "from keras.models import Sequential\n",
    "from keras.layers import Activation, Dense, Dropout\n",
    "from keras import optimizers"
   ]
  },
  {
   "cell_type": "code",
   "execution_count": 25,
   "metadata": {},
   "outputs": [
    {
     "name": "stdout",
     "output_type": "stream",
     "text": [
      "Model: \"sequential\"\n",
      "_________________________________________________________________\n",
      " Layer (type)                Output Shape              Param #   \n",
      "=================================================================\n",
      " dense (Dense)               (None, 256)               8960      \n",
      "                                                                 \n",
      " dense_1 (Dense)             (None, 256)               65792     \n",
      "                                                                 \n",
      " dense_2 (Dense)             (None, 1)                 257       \n",
      "                                                                 \n",
      "=================================================================\n",
      "Total params: 75,009\n",
      "Trainable params: 75,009\n",
      "Non-trainable params: 0\n",
      "_________________________________________________________________\n"
     ]
    }
   ],
   "source": [
    "model_one = Sequential([\n",
    "    Dense(units=256, input_dim=x_train_data.shape[1], activation='relu'),\n",
    "    Dense(units=256, activation='relu'),\n",
    "    Dense(units=1, activation='sigmoid')\n",
    "])\n",
    "\n",
    "model_one.summary()\n",
    "\n",
    "model_one.compile(optimizer=optimizers.Adam(learning_rate=0.001), loss='mean_squared_error')"
   ]
  },
  {
   "cell_type": "markdown",
   "metadata": {},
   "source": [
    "We train our first set of labelled data"
   ]
  },
  {
   "cell_type": "code",
   "execution_count": 26,
   "metadata": {},
   "outputs": [
    {
     "name": "stdout",
     "output_type": "stream",
     "text": [
      "Epoch 1/30\n",
      "3646/3646 [==============================] - 11s 3ms/step - loss: 0.0106 - val_loss: 0.0104\n",
      "Epoch 2/30\n",
      "3646/3646 [==============================] - 10s 3ms/step - loss: 0.0104 - val_loss: 0.0106\n",
      "Epoch 3/30\n",
      "3646/3646 [==============================] - 10s 3ms/step - loss: 0.0104 - val_loss: 0.0104\n",
      "Epoch 4/30\n",
      "3646/3646 [==============================] - 11s 3ms/step - loss: 0.0103 - val_loss: 0.0103\n",
      "Epoch 5/30\n",
      "3646/3646 [==============================] - 10s 3ms/step - loss: 0.0102 - val_loss: 0.0103\n",
      "Epoch 6/30\n",
      "3646/3646 [==============================] - 10s 3ms/step - loss: 0.0101 - val_loss: 0.0102\n",
      "Epoch 7/30\n",
      "3646/3646 [==============================] - 10s 3ms/step - loss: 0.0100 - val_loss: 0.0102\n",
      "Epoch 8/30\n",
      "3646/3646 [==============================] - 11s 3ms/step - loss: 0.0099 - val_loss: 0.0103\n",
      "Epoch 9/30\n",
      "3646/3646 [==============================] - 10s 3ms/step - loss: 0.0098 - val_loss: 0.0100\n",
      "Epoch 10/30\n",
      "3646/3646 [==============================] - 10s 3ms/step - loss: 0.0097 - val_loss: 0.0100\n",
      "Epoch 11/30\n",
      "3646/3646 [==============================] - 11s 3ms/step - loss: 0.0097 - val_loss: 0.0100\n",
      "Epoch 12/30\n",
      "3646/3646 [==============================] - 11s 3ms/step - loss: 0.0096 - val_loss: 0.0099\n",
      "Epoch 13/30\n",
      "3646/3646 [==============================] - 11s 3ms/step - loss: 0.0095 - val_loss: 0.0101\n",
      "Epoch 14/30\n",
      "3646/3646 [==============================] - 10s 3ms/step - loss: 0.0094 - val_loss: 0.0100\n",
      "Epoch 15/30\n",
      "3646/3646 [==============================] - 11s 3ms/step - loss: 0.0094 - val_loss: 0.0101\n",
      "Epoch 16/30\n",
      "3646/3646 [==============================] - 11s 3ms/step - loss: 0.0093 - val_loss: 0.0101\n",
      "Epoch 17/30\n",
      "3646/3646 [==============================] - 10s 3ms/step - loss: 0.0093 - val_loss: 0.0099\n",
      "Epoch 18/30\n",
      "3646/3646 [==============================] - 9s 2ms/step - loss: 0.0092 - val_loss: 0.0100\n",
      "Epoch 19/30\n",
      "3646/3646 [==============================] - 10s 3ms/step - loss: 0.0092 - val_loss: 0.0100\n",
      "Epoch 20/30\n",
      "3646/3646 [==============================] - 10s 3ms/step - loss: 0.0091 - val_loss: 0.0099\n",
      "Epoch 21/30\n",
      "3646/3646 [==============================] - 9s 2ms/step - loss: 0.0091 - val_loss: 0.0098\n",
      "Epoch 22/30\n",
      "3646/3646 [==============================] - 8s 2ms/step - loss: 0.0090 - val_loss: 0.0099\n",
      "Epoch 23/30\n",
      "3646/3646 [==============================] - 11s 3ms/step - loss: 0.0090 - val_loss: 0.0099\n",
      "Epoch 24/30\n",
      "3646/3646 [==============================] - 9s 3ms/step - loss: 0.0089 - val_loss: 0.0099\n",
      "Epoch 25/30\n",
      "3646/3646 [==============================] - 10s 3ms/step - loss: 0.0089 - val_loss: 0.0100\n",
      "Epoch 26/30\n",
      "3646/3646 [==============================] - 10s 3ms/step - loss: 0.0089 - val_loss: 0.0099\n",
      "Epoch 27/30\n",
      "3646/3646 [==============================] - 10s 3ms/step - loss: 0.0088 - val_loss: 0.0098\n",
      "Epoch 28/30\n",
      "3646/3646 [==============================] - 8s 2ms/step - loss: 0.0088 - val_loss: 0.0099\n",
      "Epoch 29/30\n",
      "3646/3646 [==============================] - 10s 3ms/step - loss: 0.0088 - val_loss: 0.0100\n",
      "Epoch 30/30\n",
      "3646/3646 [==============================] - 10s 3ms/step - loss: 0.0087 - val_loss: 0.0100\n"
     ]
    }
   ],
   "source": [
    "first_training = model_one.fit(x_train_data, y_train_data, batch_size=8, epochs=30, validation_data=(x_test_data, y_test_data))"
   ]
  },
  {
   "cell_type": "markdown",
   "metadata": {},
   "source": [
    "We create our first pesudo-labels.\n",
    "\n",
    "The pseudo-labels and its applicant data are then added to the training data."
   ]
  },
  {
   "cell_type": "code",
   "execution_count": 27,
   "metadata": {},
   "outputs": [
    {
     "name": "stdout",
     "output_type": "stream",
     "text": [
      "4189/4189 [==============================] - 6s 2ms/step\n"
     ]
    }
   ],
   "source": [
    "pseudo_label_1 = model_one.predict(x_unlabelled_data_1)\n",
    "\n",
    "new_x_train_data = np.vstack((x_train_data, x_unlabelled_data_1))\n",
    "new_y_train_data = np.append(y_train_data, pseudo_label_1)"
   ]
  },
  {
   "cell_type": "markdown",
   "metadata": {},
   "source": [
    "### Second training"
   ]
  },
  {
   "cell_type": "code",
   "execution_count": 28,
   "metadata": {},
   "outputs": [
    {
     "name": "stdout",
     "output_type": "stream",
     "text": [
      "Epoch 1/30\n",
      "2550/2550 [==============================] - 11s 4ms/step - loss: 0.0029 - val_loss: 0.0104\n",
      "Epoch 2/30\n",
      "2550/2550 [==============================] - 9s 3ms/step - loss: 0.0025 - val_loss: 0.0103\n",
      "Epoch 3/30\n",
      "2550/2550 [==============================] - 10s 4ms/step - loss: 0.0023 - val_loss: 0.0102\n",
      "Epoch 4/30\n",
      "2550/2550 [==============================] - 9s 4ms/step - loss: 0.0022 - val_loss: 0.0103\n",
      "Epoch 5/30\n",
      "2550/2550 [==============================] - 10s 4ms/step - loss: 0.0022 - val_loss: 0.0102\n",
      "Epoch 6/30\n",
      "2550/2550 [==============================] - 10s 4ms/step - loss: 0.0021 - val_loss: 0.0101\n",
      "Epoch 7/30\n",
      "2550/2550 [==============================] - 10s 4ms/step - loss: 0.0021 - val_loss: 0.0100\n",
      "Epoch 8/30\n",
      "2550/2550 [==============================] - 10s 4ms/step - loss: 0.0021 - val_loss: 0.0100\n",
      "Epoch 9/30\n",
      "2550/2550 [==============================] - 10s 4ms/step - loss: 0.0021 - val_loss: 0.0100\n",
      "Epoch 10/30\n",
      "2550/2550 [==============================] - 10s 4ms/step - loss: 0.0020 - val_loss: 0.0100\n",
      "Epoch 11/30\n",
      "2550/2550 [==============================] - 9s 4ms/step - loss: 0.0020 - val_loss: 0.0100\n",
      "Epoch 12/30\n",
      "2550/2550 [==============================] - 10s 4ms/step - loss: 0.0020 - val_loss: 0.0100\n",
      "Epoch 13/30\n",
      "2550/2550 [==============================] - 10s 4ms/step - loss: 0.0020 - val_loss: 0.0100\n",
      "Epoch 14/30\n",
      "2550/2550 [==============================] - 9s 4ms/step - loss: 0.0020 - val_loss: 0.0099\n",
      "Epoch 15/30\n",
      "2550/2550 [==============================] - 10s 4ms/step - loss: 0.0020 - val_loss: 0.0099\n",
      "Epoch 16/30\n",
      "2550/2550 [==============================] - 10s 4ms/step - loss: 0.0020 - val_loss: 0.0099\n",
      "Epoch 17/30\n",
      "2550/2550 [==============================] - 9s 4ms/step - loss: 0.0020 - val_loss: 0.0099\n",
      "Epoch 18/30\n",
      "2550/2550 [==============================] - 8s 3ms/step - loss: 0.0019 - val_loss: 0.0098\n",
      "Epoch 19/30\n",
      "2550/2550 [==============================] - 10s 4ms/step - loss: 0.0019 - val_loss: 0.0098\n",
      "Epoch 20/30\n",
      "2550/2550 [==============================] - 10s 4ms/step - loss: 0.0019 - val_loss: 0.0099\n",
      "Epoch 21/30\n",
      "2550/2550 [==============================] - 10s 4ms/step - loss: 0.0019 - val_loss: 0.0098\n",
      "Epoch 22/30\n",
      "2550/2550 [==============================] - 7s 3ms/step - loss: 0.0019 - val_loss: 0.0098\n",
      "Epoch 23/30\n",
      "2550/2550 [==============================] - 10s 4ms/step - loss: 0.0019 - val_loss: 0.0098\n",
      "Epoch 24/30\n",
      "2550/2550 [==============================] - 10s 4ms/step - loss: 0.0019 - val_loss: 0.0099\n",
      "Epoch 25/30\n",
      "2550/2550 [==============================] - 10s 4ms/step - loss: 0.0019 - val_loss: 0.0098\n",
      "Epoch 26/30\n",
      "2550/2550 [==============================] - 10s 4ms/step - loss: 0.0019 - val_loss: 0.0098\n",
      "Epoch 27/30\n",
      "2550/2550 [==============================] - 10s 4ms/step - loss: 0.0019 - val_loss: 0.0099\n",
      "Epoch 28/30\n",
      "2550/2550 [==============================] - 10s 4ms/step - loss: 0.0019 - val_loss: 0.0098\n",
      "Epoch 29/30\n",
      "2550/2550 [==============================] - 7s 3ms/step - loss: 0.0019 - val_loss: 0.0098\n",
      "Epoch 30/30\n",
      "2550/2550 [==============================] - 10s 4ms/step - loss: 0.0019 - val_loss: 0.0098\n"
     ]
    }
   ],
   "source": [
    "model_two = Sequential([\n",
    "    Dense(units=256, input_dim=x_train_data.shape[1], activation='relu'),\n",
    "    Dropout(0.2),\n",
    "    Dense(units=256, activation='relu'),\n",
    "    Dropout(0.2),\n",
    "    Dense(units=1, activation='sigmoid')\n",
    "])\n",
    "\n",
    "model_two.compile(optimizer=optimizers.Adam(learning_rate=0.001), loss='mean_squared_error')\n",
    "\n",
    "second_training = model_two.fit(new_x_train_data, new_y_train_data, batch_size=64, epochs=30, validation_data=(x_test_data, y_test_data))"
   ]
  },
  {
   "cell_type": "markdown",
   "metadata": {},
   "source": [
    "Second pseudo-labelling and adjustment to training data."
   ]
  },
  {
   "cell_type": "code",
   "execution_count": 29,
   "metadata": {},
   "outputs": [
    {
     "name": "stdout",
     "output_type": "stream",
     "text": [
      "4189/4189 [==============================] - 7s 2ms/step\n"
     ]
    }
   ],
   "source": [
    "pseudo_label_2 = model_one.predict(x_unlabelled_data_2)\n",
    "\n",
    "new_x_train_data = np.vstack((new_x_train_data, x_unlabelled_data_2))\n",
    "new_y_train_data = np.append(new_y_train_data, pseudo_label_2)"
   ]
  },
  {
   "cell_type": "markdown",
   "metadata": {},
   "source": [
    "### Third training"
   ]
  },
  {
   "cell_type": "code",
   "execution_count": 30,
   "metadata": {},
   "outputs": [
    {
     "name": "stdout",
     "output_type": "stream",
     "text": [
      "Epoch 1/30\n",
      "2323/2323 [==============================] - 8s 3ms/step - loss: 0.0020 - val_loss: 0.0103\n",
      "Epoch 2/30\n",
      "2323/2323 [==============================] - 10s 4ms/step - loss: 0.0016 - val_loss: 0.0103\n",
      "Epoch 3/30\n",
      "2323/2323 [==============================] - 11s 5ms/step - loss: 0.0015 - val_loss: 0.0102\n",
      "Epoch 4/30\n",
      "2323/2323 [==============================] - 10s 4ms/step - loss: 0.0014 - val_loss: 0.0101\n",
      "Epoch 5/30\n",
      "2323/2323 [==============================] - 11s 5ms/step - loss: 0.0014 - val_loss: 0.0101\n",
      "Epoch 6/30\n",
      "2323/2323 [==============================] - 11s 5ms/step - loss: 0.0013 - val_loss: 0.0101\n",
      "Epoch 7/30\n",
      "2323/2323 [==============================] - 9s 4ms/step - loss: 0.0013 - val_loss: 0.0100\n",
      "Epoch 8/30\n",
      "2323/2323 [==============================] - 10s 4ms/step - loss: 0.0013 - val_loss: 0.0100\n",
      "Epoch 9/30\n",
      "2323/2323 [==============================] - 11s 5ms/step - loss: 0.0013 - val_loss: 0.0100\n",
      "Epoch 10/30\n",
      "2323/2323 [==============================] - 10s 4ms/step - loss: 0.0013 - val_loss: 0.0100\n",
      "Epoch 11/30\n",
      "2323/2323 [==============================] - 11s 5ms/step - loss: 0.0013 - val_loss: 0.0099\n",
      "Epoch 12/30\n",
      "2323/2323 [==============================] - 10s 4ms/step - loss: 0.0012 - val_loss: 0.0100\n",
      "Epoch 13/30\n",
      "2323/2323 [==============================] - 9s 4ms/step - loss: 0.0012 - val_loss: 0.0099\n",
      "Epoch 14/30\n",
      "2323/2323 [==============================] - 11s 5ms/step - loss: 0.0012 - val_loss: 0.0099\n",
      "Epoch 15/30\n",
      "2323/2323 [==============================] - 11s 5ms/step - loss: 0.0012 - val_loss: 0.0100\n",
      "Epoch 16/30\n",
      "2323/2323 [==============================] - 10s 4ms/step - loss: 0.0012 - val_loss: 0.0099\n",
      "Epoch 17/30\n",
      "2323/2323 [==============================] - 11s 5ms/step - loss: 0.0012 - val_loss: 0.0099\n",
      "Epoch 18/30\n",
      "2323/2323 [==============================] - 11s 5ms/step - loss: 0.0012 - val_loss: 0.0099\n",
      "Epoch 19/30\n",
      "2323/2323 [==============================] - 10s 4ms/step - loss: 0.0012 - val_loss: 0.0099\n",
      "Epoch 20/30\n",
      "2323/2323 [==============================] - 9s 4ms/step - loss: 0.0012 - val_loss: 0.0099\n",
      "Epoch 21/30\n",
      "2323/2323 [==============================] - 11s 5ms/step - loss: 0.0012 - val_loss: 0.0099\n",
      "Epoch 22/30\n",
      "2323/2323 [==============================] - 11s 5ms/step - loss: 0.0012 - val_loss: 0.0099\n",
      "Epoch 23/30\n",
      "2323/2323 [==============================] - 11s 5ms/step - loss: 0.0012 - val_loss: 0.0099\n",
      "Epoch 24/30\n",
      "2323/2323 [==============================] - 11s 5ms/step - loss: 0.0012 - val_loss: 0.0099\n",
      "Epoch 25/30\n",
      "2323/2323 [==============================] - 9s 4ms/step - loss: 0.0012 - val_loss: 0.0099\n",
      "Epoch 26/30\n",
      "2323/2323 [==============================] - 9s 4ms/step - loss: 0.0012 - val_loss: 0.0099\n",
      "Epoch 27/30\n",
      "2323/2323 [==============================] - 10s 4ms/step - loss: 0.0012 - val_loss: 0.0098\n",
      "Epoch 28/30\n",
      "2323/2323 [==============================] - 10s 4ms/step - loss: 0.0012 - val_loss: 0.0099\n",
      "Epoch 29/30\n",
      "2323/2323 [==============================] - 10s 4ms/step - loss: 0.0012 - val_loss: 0.0099\n",
      "Epoch 30/30\n",
      "2323/2323 [==============================] - 10s 4ms/step - loss: 0.0012 - val_loss: 0.0099\n"
     ]
    }
   ],
   "source": [
    "model_three = Sequential([\n",
    "    Dense(units=256, input_dim=x_train_data.shape[1], activation='relu'),\n",
    "    Dropout(0.2),\n",
    "    Dense(units=128, activation='relu'),\n",
    "    Dropout(0.2),\n",
    "    Dense(units=1, activation='sigmoid')\n",
    "])\n",
    "\n",
    "model_three.compile(optimizer=optimizers.Adam(learning_rate=0.001), loss='mean_squared_error')\n",
    "\n",
    "third_training = model_three.fit(new_x_train_data, new_y_train_data, batch_size=128, epochs=30, validation_data=(x_test_data, y_test_data))"
   ]
  },
  {
   "cell_type": "markdown",
   "metadata": {},
   "source": [
    "Third pseudo-labelling and adjustment to training data."
   ]
  },
  {
   "cell_type": "code",
   "execution_count": 31,
   "metadata": {},
   "outputs": [
    {
     "name": "stdout",
     "output_type": "stream",
     "text": [
      "4189/4189 [==============================] - 7s 2ms/step\n"
     ]
    }
   ],
   "source": [
    "pseudo_label_3 = model_one.predict(x_unlabelled_data_3)\n",
    "\n",
    "new_x_train_data = np.vstack((new_x_train_data, x_unlabelled_data_3))\n",
    "new_y_train_data = np.append(new_y_train_data, pseudo_label_3)"
   ]
  },
  {
   "cell_type": "markdown",
   "metadata": {},
   "source": [
    "### Fourth training"
   ]
  },
  {
   "cell_type": "code",
   "execution_count": 32,
   "metadata": {},
   "outputs": [
    {
     "name": "stdout",
     "output_type": "stream",
     "text": [
      "Epoch 1/30\n",
      "3370/3370 [==============================] - 6s 2ms/step - loss: 0.0016 - val_loss: 0.0103\n",
      "Epoch 2/30\n",
      "3370/3370 [==============================] - 13s 4ms/step - loss: 0.0012 - val_loss: 0.0102\n",
      "Epoch 3/30\n",
      "3370/3370 [==============================] - 14s 4ms/step - loss: 0.0011 - val_loss: 0.0102\n",
      "Epoch 4/30\n",
      "3370/3370 [==============================] - 14s 4ms/step - loss: 0.0011 - val_loss: 0.0101\n",
      "Epoch 5/30\n",
      "3370/3370 [==============================] - 13s 4ms/step - loss: 0.0010 - val_loss: 0.0101\n",
      "Epoch 6/30\n",
      "3370/3370 [==============================] - 14s 4ms/step - loss: 0.0010 - val_loss: 0.0101\n",
      "Epoch 7/30\n",
      "3370/3370 [==============================] - 14s 4ms/step - loss: 9.8676e-04 - val_loss: 0.0101\n",
      "Epoch 8/30\n",
      "3370/3370 [==============================] - 14s 4ms/step - loss: 9.7327e-04 - val_loss: 0.0101\n",
      "Epoch 9/30\n",
      "3370/3370 [==============================] - 14s 4ms/step - loss: 9.6170e-04 - val_loss: 0.0100\n",
      "Epoch 10/30\n",
      "3370/3370 [==============================] - 14s 4ms/step - loss: 9.5314e-04 - val_loss: 0.0099\n",
      "Epoch 11/30\n",
      "3370/3370 [==============================] - 14s 4ms/step - loss: 9.4272e-04 - val_loss: 0.0100\n",
      "Epoch 12/30\n",
      "3370/3370 [==============================] - 14s 4ms/step - loss: 9.3704e-04 - val_loss: 0.0100\n",
      "Epoch 13/30\n",
      "3370/3370 [==============================] - 14s 4ms/step - loss: 9.3076e-04 - val_loss: 0.0099\n",
      "Epoch 14/30\n",
      "3370/3370 [==============================] - 14s 4ms/step - loss: 9.2664e-04 - val_loss: 0.0099\n",
      "Epoch 15/30\n",
      "3370/3370 [==============================] - 14s 4ms/step - loss: 9.2362e-04 - val_loss: 0.0100\n",
      "Epoch 16/30\n",
      "3370/3370 [==============================] - 13s 4ms/step - loss: 9.1824e-04 - val_loss: 0.0099\n",
      "Epoch 17/30\n",
      "3370/3370 [==============================] - 14s 4ms/step - loss: 9.1407e-04 - val_loss: 0.0099\n",
      "Epoch 18/30\n",
      "3370/3370 [==============================] - 14s 4ms/step - loss: 9.0887e-04 - val_loss: 0.0099\n",
      "Epoch 19/30\n",
      "3370/3370 [==============================] - 14s 4ms/step - loss: 9.0625e-04 - val_loss: 0.0099\n",
      "Epoch 20/30\n",
      "3370/3370 [==============================] - 14s 4ms/step - loss: 9.0111e-04 - val_loss: 0.0099\n",
      "Epoch 21/30\n",
      "3370/3370 [==============================] - 14s 4ms/step - loss: 9.0017e-04 - val_loss: 0.0099\n",
      "Epoch 22/30\n",
      "3370/3370 [==============================] - 14s 4ms/step - loss: 8.9737e-04 - val_loss: 0.0099\n",
      "Epoch 23/30\n",
      "3370/3370 [==============================] - 14s 4ms/step - loss: 8.9510e-04 - val_loss: 0.0099\n",
      "Epoch 24/30\n",
      "3370/3370 [==============================] - 16s 5ms/step - loss: 8.9327e-04 - val_loss: 0.0099\n",
      "Epoch 25/30\n",
      "3370/3370 [==============================] - 15s 5ms/step - loss: 8.9201e-04 - val_loss: 0.0099\n",
      "Epoch 26/30\n",
      "3370/3370 [==============================] - 16s 5ms/step - loss: 8.9241e-04 - val_loss: 0.0099\n",
      "Epoch 27/30\n",
      "3370/3370 [==============================] - 15s 5ms/step - loss: 8.8593e-04 - val_loss: 0.0099\n",
      "Epoch 28/30\n",
      "3370/3370 [==============================] - 16s 5ms/step - loss: 8.8411e-04 - val_loss: 0.0099\n",
      "Epoch 29/30\n",
      "3370/3370 [==============================] - 15s 4ms/step - loss: 8.8411e-04 - val_loss: 0.0099\n",
      "Epoch 30/30\n",
      "3370/3370 [==============================] - 15s 5ms/step - loss: 8.8387e-04 - val_loss: 0.0099\n"
     ]
    }
   ],
   "source": [
    "model_four = Sequential([\n",
    "    Dense(units=256, input_dim=x_train_data.shape[1], activation='relu'),\n",
    "    Dropout(0.2),\n",
    "    Dense(units=128, activation='relu'),\n",
    "    Dropout(0.2),\n",
    "    Dense(units=1, activation='sigmoid')\n",
    "])\n",
    "\n",
    "model_four.compile(optimizer=optimizers.Adam(learning_rate=0.001), loss='mean_squared_error')\n",
    "\n",
    "fourth_training = model_four.fit(new_x_train_data, new_y_train_data, batch_size=128, epochs=30, validation_data=(x_test_data, y_test_data))"
   ]
  },
  {
   "cell_type": "markdown",
   "metadata": {},
   "source": [
    "### Testing accuracy\n",
    "We will now test the sum squared error of our model."
   ]
  },
  {
   "cell_type": "code",
   "execution_count": 33,
   "metadata": {},
   "outputs": [
    {
     "name": "stdout",
     "output_type": "stream",
     "text": [
      "228/228 [==============================] - 0s 2ms/step\n"
     ]
    },
    {
     "data": {
      "text/plain": [
       "0.00988013955881512"
      ]
     },
     "execution_count": 33,
     "metadata": {},
     "output_type": "execute_result"
    }
   ],
   "source": [
    "from sklearn.metrics import mean_squared_error\n",
    "\n",
    "test_accuracy = model_four.predict(x_test_data)\n",
    "mean_squared_error(y_test_data, test_accuracy)"
   ]
  },
  {
   "cell_type": "markdown",
   "metadata": {},
   "source": [
    "# Progress of mean sum squared\n",
    "\n",
    "First training"
   ]
  },
  {
   "cell_type": "code",
   "execution_count": 34,
   "metadata": {},
   "outputs": [
    {
     "data": {
      "image/png": "[encoded data removed]",
      "text/plain": [
       "<Figure size 432x288 with 1 Axes>"
      ]
     },
     "metadata": {
      "needs_background": "light"
     },
     "output_type": "display_data"
    }
   ],
   "source": [
    "import matplotlib.pyplot as plt\n",
    "\n",
    "plt.plot(range(30), first_training.history[\"loss\"], label=\"training set\", color = \"blue\")\n",
    "plt.plot(range(30), first_training.history[\"val_loss\"], label=\"training set\", color = \"orange\")\n",
    "plt.legend()\n",
    "plt.show()"
   ]
  },
  {
   "cell_type": "markdown",
   "metadata": {},
   "source": [
    "Second training"
   ]
  },
  {
   "cell_type": "code",
   "execution_count": 35,
   "metadata": {},
   "outputs": [
    {
     "data": {
      "image/png": "[encoded data removed]",
      "text/plain": [
       "<Figure size 432x288 with 1 Axes>"
      ]
     },
     "metadata": {
      "needs_background": "light"
     },
     "output_type": "display_data"
    }
   ],
   "source": [
    "plt.plot(range(30), second_training.history[\"loss\"], label=\"training set\", color = \"blue\")\n",
    "plt.plot(range(30), second_training.history[\"val_loss\"], label=\"testing set\", color = \"orange\")\n",
    "plt.legend()\n",
    "plt.show()"
   ]
  },
  {
   "cell_type": "markdown",
   "metadata": {},
   "source": [
    "Third training"
   ]
  },
  {
   "cell_type": "code",
   "execution_count": 36,
   "metadata": {},
   "outputs": [
    {
     "data": {
      "image/png": "[encoded data removed]",
      "text/plain": [
       "<Figure size 432x288 with 1 Axes>"
      ]
     },
     "metadata": {
      "needs_background": "light"
     },
     "output_type": "display_data"
    }
   ],
   "source": [
    "plt.plot(range(30), third_training.history[\"loss\"], label=\"training set\", color = \"blue\")\n",
    "plt.plot(range(30), third_training.history[\"val_loss\"], label=\"testing set\", color = \"orange\")\n",
    "plt.legend()\n",
    "plt.show()"
   ]
  },
  {
   "cell_type": "markdown",
   "metadata": {},
   "source": [
    "Fourth training"
   ]
  },
  {
   "cell_type": "code",
   "execution_count": 37,
   "metadata": {},
   "outputs": [
    {
     "data": {
      "image/png": "[encoded data removed]",
      "text/plain": [
       "<Figure size 432x288 with 1 Axes>"
      ]
     },
     "metadata": {
      "needs_background": "light"
     },
     "output_type": "display_data"
    }
   ],
   "source": [
    "plt.plot(range(30), fourth_training.history[\"loss\"], label=\"training set\", color = \"blue\")\n",
    "plt.plot(range(30), fourth_training.history[\"val_loss\"], label=\"testing set\", color = \"orange\")\n",
    "plt.legend()\n",
    "plt.show()"
   ]
  },
  {
   "cell_type": "markdown",
   "metadata": {},
   "source": [
    "Running model on actual labelled data shows a significantly better performance than adding layers of pseudo-labelled data. We try to run the model on the actual labelled data with more sophisticated layers."
   ]
  },
  {
   "cell_type": "code",
   "execution_count": 60,
   "metadata": {},
   "outputs": [
    {
     "name": "stdout",
     "output_type": "stream",
     "text": [
      "Model: \"sequential_9\"\n",
      "_________________________________________________________________\n",
      " Layer (type)                Output Shape              Param #   \n",
      "=================================================================\n",
      " dense_28 (Dense)            (None, 300)               10500     \n",
      "                                                                 \n",
      " dropout_17 (Dropout)        (None, 300)               0         \n",
      "                                                                 \n",
      " dense_29 (Dense)            (None, 300)               90300     \n",
      "                                                                 \n",
      " dropout_18 (Dropout)        (None, 300)               0         \n",
      "                                                                 \n",
      " dense_30 (Dense)            (None, 1)                 301       \n",
      "                                                                 \n",
      "=================================================================\n",
      "Total params: 101,101\n",
      "Trainable params: 101,101\n",
      "Non-trainable params: 0\n",
      "_________________________________________________________________\n",
      "Epoch 1/120\n",
      "1823/1823 [==============================] - 4s 2ms/step - loss: 0.0107 - val_loss: 0.0105\n",
      "Epoch 2/120\n",
      "1823/1823 [==============================] - 3s 2ms/step - loss: 0.0105 - val_loss: 0.0105\n",
      "Epoch 3/120\n",
      "1823/1823 [==============================] - 5s 3ms/step - loss: 0.0104 - val_loss: 0.0104\n",
      "Epoch 4/120\n",
      "1823/1823 [==============================] - 8s 4ms/step - loss: 0.0103 - val_loss: 0.0104\n",
      "Epoch 5/120\n",
      "1823/1823 [==============================] - 8s 4ms/step - loss: 0.0103 - val_loss: 0.0103\n",
      "Epoch 6/120\n",
      "1823/1823 [==============================] - 8s 4ms/step - loss: 0.0102 - val_loss: 0.0104\n",
      "Epoch 7/120\n",
      "1823/1823 [==============================] - 8s 4ms/step - loss: 0.0102 - val_loss: 0.0103\n",
      "Epoch 8/120\n",
      "1823/1823 [==============================] - 8s 4ms/step - loss: 0.0101 - val_loss: 0.0102\n",
      "Epoch 9/120\n",
      "1823/1823 [==============================] - 8s 4ms/step - loss: 0.0101 - val_loss: 0.0102\n",
      "Epoch 10/120\n",
      "1823/1823 [==============================] - 8s 4ms/step - loss: 0.0100 - val_loss: 0.0102\n",
      "Epoch 11/120\n",
      "1823/1823 [==============================] - 8s 4ms/step - loss: 0.0100 - val_loss: 0.0102\n",
      "Epoch 12/120\n",
      "1823/1823 [==============================] - 8s 4ms/step - loss: 0.0099 - val_loss: 0.0102\n",
      "Epoch 13/120\n",
      "1823/1823 [==============================] - 8s 4ms/step - loss: 0.0099 - val_loss: 0.0101\n",
      "Epoch 14/120\n",
      "1823/1823 [==============================] - 8s 4ms/step - loss: 0.0099 - val_loss: 0.0101\n",
      "Epoch 15/120\n",
      "1823/1823 [==============================] - 8s 4ms/step - loss: 0.0098 - val_loss: 0.0101\n",
      "Epoch 16/120\n",
      "1823/1823 [==============================] - 8s 4ms/step - loss: 0.0098 - val_loss: 0.0101\n",
      "Epoch 17/120\n",
      "1823/1823 [==============================] - 8s 4ms/step - loss: 0.0098 - val_loss: 0.0100\n",
      "Epoch 18/120\n",
      "1823/1823 [==============================] - 8s 4ms/step - loss: 0.0097 - val_loss: 0.0100\n",
      "Epoch 19/120\n",
      "1823/1823 [==============================] - 8s 4ms/step - loss: 0.0097 - val_loss: 0.0101\n",
      "Epoch 20/120\n",
      "1823/1823 [==============================] - 8s 4ms/step - loss: 0.0097 - val_loss: 0.0100\n",
      "Epoch 21/120\n",
      "1823/1823 [==============================] - 8s 4ms/step - loss: 0.0096 - val_loss: 0.0099\n",
      "Epoch 22/120\n",
      "1823/1823 [==============================] - 8s 4ms/step - loss: 0.0096 - val_loss: 0.0100\n",
      "Epoch 23/120\n",
      "1823/1823 [==============================] - 8s 4ms/step - loss: 0.0096 - val_loss: 0.0099\n",
      "Epoch 24/120\n",
      "1823/1823 [==============================] - 8s 4ms/step - loss: 0.0096 - val_loss: 0.0099\n",
      "Epoch 25/120\n",
      "1823/1823 [==============================] - 8s 4ms/step - loss: 0.0095 - val_loss: 0.0099\n",
      "Epoch 26/120\n",
      "1823/1823 [==============================] - 8s 4ms/step - loss: 0.0095 - val_loss: 0.0099\n",
      "Epoch 27/120\n",
      "1823/1823 [==============================] - 8s 4ms/step - loss: 0.0095 - val_loss: 0.0098\n",
      "Epoch 28/120\n",
      "1823/1823 [==============================] - 8s 4ms/step - loss: 0.0095 - val_loss: 0.0099\n",
      "Epoch 29/120\n",
      "1823/1823 [==============================] - 8s 4ms/step - loss: 0.0094 - val_loss: 0.0099\n",
      "Epoch 30/120\n",
      "1823/1823 [==============================] - 8s 4ms/step - loss: 0.0094 - val_loss: 0.0099\n",
      "Epoch 31/120\n",
      "1823/1823 [==============================] - 8s 4ms/step - loss: 0.0093 - val_loss: 0.0099\n",
      "Epoch 32/120\n",
      "1823/1823 [==============================] - 8s 4ms/step - loss: 0.0094 - val_loss: 0.0099\n",
      "Epoch 33/120\n",
      "1823/1823 [==============================] - 8s 4ms/step - loss: 0.0093 - val_loss: 0.0099\n",
      "Epoch 34/120\n",
      "1823/1823 [==============================] - 8s 4ms/step - loss: 0.0094 - val_loss: 0.0099\n",
      "Epoch 35/120\n",
      "1823/1823 [==============================] - 8s 4ms/step - loss: 0.0093 - val_loss: 0.0098\n",
      "Epoch 36/120\n",
      "1823/1823 [==============================] - 8s 4ms/step - loss: 0.0093 - val_loss: 0.0098\n",
      "Epoch 37/120\n",
      "1823/1823 [==============================] - 8s 4ms/step - loss: 0.0093 - val_loss: 0.0099\n",
      "Epoch 38/120\n",
      "1823/1823 [==============================] - 8s 4ms/step - loss: 0.0092 - val_loss: 0.0098\n",
      "Epoch 39/120\n",
      "1823/1823 [==============================] - 8s 4ms/step - loss: 0.0092 - val_loss: 0.0098\n",
      "Epoch 40/120\n",
      "1823/1823 [==============================] - 7s 4ms/step - loss: 0.0092 - val_loss: 0.0098\n",
      "Epoch 41/120\n",
      "1823/1823 [==============================] - 8s 4ms/step - loss: 0.0092 - val_loss: 0.0098\n",
      "Epoch 42/120\n",
      "1823/1823 [==============================] - 8s 4ms/step - loss: 0.0092 - val_loss: 0.0098\n",
      "Epoch 43/120\n",
      "1823/1823 [==============================] - 7s 4ms/step - loss: 0.0091 - val_loss: 0.0098\n",
      "Epoch 44/120\n",
      "1823/1823 [==============================] - 3s 2ms/step - loss: 0.0092 - val_loss: 0.0097\n",
      "Epoch 45/120\n",
      "1823/1823 [==============================] - 3s 2ms/step - loss: 0.0091 - val_loss: 0.0098\n",
      "Epoch 46/120\n",
      "1823/1823 [==============================] - 3s 2ms/step - loss: 0.0091 - val_loss: 0.0098\n",
      "Epoch 47/120\n",
      "1823/1823 [==============================] - 3s 2ms/step - loss: 0.0091 - val_loss: 0.0097\n",
      "Epoch 48/120\n",
      "1823/1823 [==============================] - 3s 2ms/step - loss: 0.0091 - val_loss: 0.0098\n",
      "Epoch 49/120\n",
      "1823/1823 [==============================] - 3s 2ms/step - loss: 0.0091 - val_loss: 0.0097\n",
      "Epoch 50/120\n",
      "1823/1823 [==============================] - 3s 2ms/step - loss: 0.0091 - val_loss: 0.0097\n",
      "Epoch 51/120\n",
      "1823/1823 [==============================] - 3s 2ms/step - loss: 0.0091 - val_loss: 0.0097\n",
      "Epoch 52/120\n",
      "1823/1823 [==============================] - 3s 2ms/step - loss: 0.0090 - val_loss: 0.0098\n",
      "Epoch 53/120\n",
      "1823/1823 [==============================] - 3s 2ms/step - loss: 0.0090 - val_loss: 0.0097\n",
      "Epoch 54/120\n",
      "1823/1823 [==============================] - 3s 2ms/step - loss: 0.0090 - val_loss: 0.0097\n",
      "Epoch 55/120\n",
      "1823/1823 [==============================] - 3s 2ms/step - loss: 0.0090 - val_loss: 0.0097\n",
      "Epoch 56/120\n",
      "1823/1823 [==============================] - 3s 2ms/step - loss: 0.0090 - val_loss: 0.0097\n",
      "Epoch 57/120\n",
      "1823/1823 [==============================] - 3s 2ms/step - loss: 0.0090 - val_loss: 0.0097\n",
      "Epoch 58/120\n",
      "1823/1823 [==============================] - 3s 2ms/step - loss: 0.0090 - val_loss: 0.0097\n",
      "Epoch 59/120\n",
      "1823/1823 [==============================] - 3s 2ms/step - loss: 0.0090 - val_loss: 0.0096\n",
      "Epoch 60/120\n",
      "1823/1823 [==============================] - 3s 2ms/step - loss: 0.0090 - val_loss: 0.0097\n",
      "Epoch 61/120\n",
      "1823/1823 [==============================] - 3s 2ms/step - loss: 0.0090 - val_loss: 0.0097\n",
      "Epoch 62/120\n",
      "1823/1823 [==============================] - 3s 2ms/step - loss: 0.0089 - val_loss: 0.0098\n",
      "Epoch 63/120\n",
      "1823/1823 [==============================] - 3s 2ms/step - loss: 0.0090 - val_loss: 0.0097\n",
      "Epoch 64/120\n",
      "1823/1823 [==============================] - 3s 2ms/step - loss: 0.0089 - val_loss: 0.0097\n",
      "Epoch 65/120\n",
      "1823/1823 [==============================] - 3s 2ms/step - loss: 0.0089 - val_loss: 0.0097\n",
      "Epoch 66/120\n",
      "1823/1823 [==============================] - 4s 2ms/step - loss: 0.0089 - val_loss: 0.0097\n",
      "Epoch 67/120\n",
      "1823/1823 [==============================] - 4s 2ms/step - loss: 0.0089 - val_loss: 0.0098\n",
      "Epoch 68/120\n",
      "1823/1823 [==============================] - 4s 2ms/step - loss: 0.0089 - val_loss: 0.0096\n",
      "Epoch 69/120\n",
      "1823/1823 [==============================] - 4s 2ms/step - loss: 0.0088 - val_loss: 0.0097\n",
      "Epoch 70/120\n",
      "1823/1823 [==============================] - 3s 2ms/step - loss: 0.0089 - val_loss: 0.0097\n",
      "Epoch 71/120\n",
      "1823/1823 [==============================] - 4s 2ms/step - loss: 0.0089 - val_loss: 0.0096\n",
      "Epoch 72/120\n",
      "1823/1823 [==============================] - 3s 2ms/step - loss: 0.0088 - val_loss: 0.0096\n",
      "Epoch 73/120\n",
      "1823/1823 [==============================] - 4s 2ms/step - loss: 0.0088 - val_loss: 0.0096\n",
      "Epoch 74/120\n",
      "1823/1823 [==============================] - 3s 2ms/step - loss: 0.0088 - val_loss: 0.0096\n",
      "Epoch 75/120\n",
      "1823/1823 [==============================] - 3s 2ms/step - loss: 0.0088 - val_loss: 0.0096\n",
      "Epoch 76/120\n",
      "1823/1823 [==============================] - 4s 2ms/step - loss: 0.0088 - val_loss: 0.0097\n",
      "Epoch 77/120\n",
      "1823/1823 [==============================] - 3s 2ms/step - loss: 0.0088 - val_loss: 0.0096\n",
      "Epoch 78/120\n",
      "1823/1823 [==============================] - 3s 2ms/step - loss: 0.0088 - val_loss: 0.0096\n",
      "Epoch 79/120\n",
      "1823/1823 [==============================] - 3s 2ms/step - loss: 0.0088 - val_loss: 0.0097\n",
      "Epoch 80/120\n",
      "1823/1823 [==============================] - 3s 2ms/step - loss: 0.0088 - val_loss: 0.0097\n",
      "Epoch 81/120\n",
      "1823/1823 [==============================] - 3s 2ms/step - loss: 0.0088 - val_loss: 0.0096\n",
      "Epoch 82/120\n",
      "1823/1823 [==============================] - 3s 2ms/step - loss: 0.0088 - val_loss: 0.0096\n",
      "Epoch 83/120\n",
      "1823/1823 [==============================] - 3s 2ms/step - loss: 0.0088 - val_loss: 0.0096\n",
      "Epoch 84/120\n",
      "1823/1823 [==============================] - 3s 2ms/step - loss: 0.0087 - val_loss: 0.0096\n",
      "Epoch 85/120\n",
      "1823/1823 [==============================] - 3s 2ms/step - loss: 0.0087 - val_loss: 0.0096\n",
      "Epoch 86/120\n",
      "1823/1823 [==============================] - 3s 2ms/step - loss: 0.0087 - val_loss: 0.0096\n",
      "Epoch 87/120\n",
      "1823/1823 [==============================] - 3s 2ms/step - loss: 0.0087 - val_loss: 0.0097\n",
      "Epoch 88/120\n",
      "1823/1823 [==============================] - 3s 2ms/step - loss: 0.0087 - val_loss: 0.0095\n",
      "Epoch 89/120\n",
      "1823/1823 [==============================] - 3s 2ms/step - loss: 0.0087 - val_loss: 0.0096\n",
      "Epoch 90/120\n",
      "1823/1823 [==============================] - 3s 2ms/step - loss: 0.0087 - val_loss: 0.0096\n",
      "Epoch 91/120\n",
      "1823/1823 [==============================] - 3s 2ms/step - loss: 0.0087 - val_loss: 0.0096\n",
      "Epoch 92/120\n",
      "1823/1823 [==============================] - 3s 2ms/step - loss: 0.0087 - val_loss: 0.0096\n",
      "Epoch 93/120\n",
      "1823/1823 [==============================] - 3s 2ms/step - loss: 0.0087 - val_loss: 0.0096\n",
      "Epoch 94/120\n",
      "1823/1823 [==============================] - 3s 2ms/step - loss: 0.0087 - val_loss: 0.0097\n",
      "Epoch 95/120\n",
      "1823/1823 [==============================] - 3s 2ms/step - loss: 0.0087 - val_loss: 0.0096\n",
      "Epoch 96/120\n",
      "1823/1823 [==============================] - 3s 2ms/step - loss: 0.0086 - val_loss: 0.0096\n",
      "Epoch 97/120\n",
      "1823/1823 [==============================] - 3s 2ms/step - loss: 0.0087 - val_loss: 0.0096\n",
      "Epoch 98/120\n",
      "1823/1823 [==============================] - 3s 2ms/step - loss: 0.0086 - val_loss: 0.0096\n",
      "Epoch 99/120\n",
      "1823/1823 [==============================] - 3s 2ms/step - loss: 0.0086 - val_loss: 0.0096\n",
      "Epoch 100/120\n",
      "1823/1823 [==============================] - 3s 2ms/step - loss: 0.0086 - val_loss: 0.0096\n",
      "Epoch 101/120\n",
      "1823/1823 [==============================] - 3s 2ms/step - loss: 0.0086 - val_loss: 0.0096\n",
      "Epoch 102/120\n",
      "1823/1823 [==============================] - 3s 2ms/step - loss: 0.0086 - val_loss: 0.0096\n",
      "Epoch 103/120\n",
      "1823/1823 [==============================] - 3s 2ms/step - loss: 0.0086 - val_loss: 0.0096\n",
      "Epoch 104/120\n",
      "1823/1823 [==============================] - 3s 2ms/step - loss: 0.0086 - val_loss: 0.0096\n",
      "Epoch 105/120\n",
      "1823/1823 [==============================] - 3s 2ms/step - loss: 0.0086 - val_loss: 0.0096\n",
      "Epoch 106/120\n",
      "1823/1823 [==============================] - 3s 2ms/step - loss: 0.0086 - val_loss: 0.0096\n",
      "Epoch 107/120\n",
      "1823/1823 [==============================] - 3s 2ms/step - loss: 0.0086 - val_loss: 0.0096\n",
      "Epoch 108/120\n",
      "1823/1823 [==============================] - 3s 2ms/step - loss: 0.0086 - val_loss: 0.0096\n",
      "Epoch 109/120\n",
      "1823/1823 [==============================] - 3s 2ms/step - loss: 0.0086 - val_loss: 0.0096\n",
      "Epoch 110/120\n",
      "1823/1823 [==============================] - 3s 2ms/step - loss: 0.0086 - val_loss: 0.0096\n",
      "Epoch 111/120\n",
      "1823/1823 [==============================] - 3s 2ms/step - loss: 0.0086 - val_loss: 0.0096\n",
      "Epoch 112/120\n",
      "1823/1823 [==============================] - 3s 2ms/step - loss: 0.0085 - val_loss: 0.0097\n",
      "Epoch 113/120\n",
      "1823/1823 [==============================] - 3s 2ms/step - loss: 0.0086 - val_loss: 0.0096\n",
      "Epoch 114/120\n",
      "1823/1823 [==============================] - 3s 2ms/step - loss: 0.0086 - val_loss: 0.0096\n",
      "Epoch 115/120\n",
      "1823/1823 [==============================] - 3s 2ms/step - loss: 0.0086 - val_loss: 0.0096\n",
      "Epoch 116/120\n",
      "1823/1823 [==============================] - 3s 2ms/step - loss: 0.0085 - val_loss: 0.0095\n",
      "Epoch 117/120\n",
      "1823/1823 [==============================] - 3s 2ms/step - loss: 0.0085 - val_loss: 0.0096\n",
      "Epoch 118/120\n",
      "1823/1823 [==============================] - 3s 2ms/step - loss: 0.0085 - val_loss: 0.0096\n",
      "Epoch 119/120\n",
      "1823/1823 [==============================] - 3s 2ms/step - loss: 0.0085 - val_loss: 0.0095\n",
      "Epoch 120/120\n",
      "1823/1823 [==============================] - 3s 2ms/step - loss: 0.0085 - val_loss: 0.0096\n"
     ]
    }
   ],
   "source": [
    "pure_model = Sequential([\n",
    "    Dense(units=300, input_dim=x_train_data.shape[1], activation='relu'),\n",
    "    Dropout(0.2),\n",
    "    Dense(units=300, activation='relu'),\n",
    "    Dropout(0.2),\n",
    "    Dense(units=1, activation='sigmoid')\n",
    "])\n",
    "\n",
    "pure_model.summary()\n",
    "\n",
    "pure_model.compile(optimizer=optimizers.Adam(learning_rate=0.001), loss='mean_squared_error')\n",
    "\n",
    "pure_training = pure_model.fit(x_train_data, y_train_data, batch_size=16, epochs=120, validation_data=(x_test_data, y_test_data))"
   ]
  },
  {
   "cell_type": "markdown",
   "metadata": {},
   "source": [
    "# Plotting of performance"
   ]
  },
  {
   "cell_type": "code",
   "execution_count": 61,
   "metadata": {},
   "outputs": [
    {
     "data": {
      "image/png": "[encoded data removed]",
      "text/plain": [
       "<Figure size 432x288 with 1 Axes>"
      ]
     },
     "metadata": {
      "needs_background": "light"
     },
     "output_type": "display_data"
    }
   ],
   "source": [
    "plt.plot(range(120), pure_training.history[\"loss\"], label=\"training set\", color = \"blue\")\n",
    "plt.plot(range(120), pure_training.history[\"val_loss\"], label=\"testing set\", color = \"orange\")\n",
    "plt.legend()\n",
    "plt.show()"
   ]
  },
  {
   "cell_type": "markdown",
   "metadata": {},
   "source": [
    "# MSE of pure model"
   ]
  },
  {
   "cell_type": "code",
   "execution_count": 62,
   "metadata": {},
   "outputs": [
    {
     "name": "stdout",
     "output_type": "stream",
     "text": [
      "228/228 [==============================] - 0s 803us/step\n"
     ]
    },
    {
     "data": {
      "text/plain": [
       "0.009593649522427618"
      ]
     },
     "execution_count": 62,
     "metadata": {},
     "output_type": "execute_result"
    }
   ],
   "source": [
    "pure_model_prediction = pure_model.predict(x_test_data)\n",
    "mean_squared_error(y_test_data, pure_model_prediction)"
   ]
  },
  {
   "cell_type": "markdown",
   "metadata": {},
   "source": [
    "# Comparison between SSL and Single NN Model"
   ]
  },
  {
   "cell_type": "code",
   "execution_count": 69,
   "metadata": {},
   "outputs": [
    {
     "data": {
      "text/plain": [
       "(0.0094, 0.0107)"
      ]
     },
     "execution_count": 69,
     "metadata": {},
     "output_type": "execute_result"
    },
    {
     "data": {
      "image/png": "[encoded data removed]",
      "text/plain": [
       "<Figure size 432x288 with 1 Axes>"
      ]
     },
     "metadata": {
      "needs_background": "light"
     },
     "output_type": "display_data"
    }
   ],
   "source": [
    "all_nn_hist = first_training.history[\"val_loss\"] + second_training.history[\"val_loss\"] + third_training.history[\"val_loss\"] + fourth_training.history[\"val_loss\"]\n",
    "\n",
    "plt.plot(range(120), all_nn_hist, label=\"Semi-Supervised Learning\", color = \"orange\")\n",
    "plt.plot(range(120), pure_training.history[\"val_loss\"], label=\"Single Neural Network Model\", color = \"green\")\n",
    "plt.title(\"Comparison in performance between SSL & single NN\")\n",
    "plt.xlabel(\"Epoch count\")\n",
    "plt.ylabel(\"MSE\")\n",
    "plt.legend()\n",
    "plt.ylim(0.0094, 0.0107)"
   ]
  }
 ],
 "metadata": {
  "kernelspec": {
   "display_name": "Python 3.9.13 64-bit (microsoft store)",
   "language": "python",
   "name": "python3"
  },
  "language_info": {
   "codemirror_mode": {
    "name": "ipython",
    "version": 3
   },
   "file_extension": ".py",
   "mimetype": "text/x-python",
   "name": "python",
   "nbconvert_exporter": "python",
   "pygments_lexer": "ipython3",
   "version": "3.9.13"
  },
  "orig_nbformat": 4,
  "vscode": {
   "interpreter": {
    "hash": "e545a6e027712da274986a0f0871a5356383609221311d798914a1213fea45b4"
   }
  }
 },
 "nbformat": 4,
 "nbformat_minor": 2
}
