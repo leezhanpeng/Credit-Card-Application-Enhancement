{
  "cells": [
    {
      "cell_type": "markdown",
      "metadata": {
        "id": "gSqlKENMS6wQ"
      },
      "source": [
        "# Importing libraries"
      ]
    },
    {
      "cell_type": "code",
      "execution_count": 1,
      "metadata": {
        "id": "iNUpR0RcxnZK"
      },
      "outputs": [],
      "source": [
        "import pandas as pd\n",
        "import numpy as np\n",
        "import matplotlib.pyplot as plt"
      ]
    },
    {
      "cell_type": "markdown",
      "metadata": {
        "id": "_IEW3G8JBUzf"
      },
      "source": [
        "# Loading the data"
      ]
    },
    {
      "cell_type": "code",
      "execution_count": 2,
      "metadata": {
        "id": "IcqyCQ_XBYP7"
      },
      "outputs": [],
      "source": [
        "credits = pd.read_csv('../Dataset/scores.csv')\n",
        "encoded_applications = pd.read_csv('../Dataset/processed_applications.csv')"
      ]
    },
    {
      "cell_type": "markdown",
      "metadata": {
        "id": "jyweuEAzX4gU"
      },
      "source": [
        "# Adjust Data\n",
        "Splitting data for SSL"
      ]
    },
    {
      "cell_type": "code",
      "execution_count": 3,
      "metadata": {
        "id": "6DYXJ6UOX5aS"
      },
      "outputs": [],
      "source": [
        "updated_applicants = pd.merge(encoded_applications, credits, on='id', how='left')\n",
        "updated_applicants = updated_applicants.drop(['id'], axis=1)\n",
        "\n",
        "applicants_w_records = updated_applicants.dropna(subset = [\"total_score\"])\n",
        "applicants_no_records = updated_applicants.loc[updated_applicants[\"total_score\"].isna()]"
      ]
    },
    {
      "cell_type": "markdown",
      "metadata": {
        "id": "0t4QlMOuYA7z"
      },
      "source": [
        "We split away around 20% of the applicants with records as test data."
      ]
    },
    {
      "cell_type": "code",
      "execution_count": 4,
      "metadata": {
        "id": "lvQ2QKkeYB-j"
      },
      "outputs": [],
      "source": [
        "removal_index_labeled = range(0, len(applicants_w_records), 5)\n",
        "test_data = applicants_w_records.reset_index().filter(removal_index_labeled, axis=0)\n",
        "train_data = applicants_w_records.reset_index().drop(removal_index_labeled, axis=0)\n",
        "\n",
        "x_test_data = test_data.drop(['credit_history_score', 'duration_score', 'total_score'], axis=1)\n",
        "y_test_data = test_data['total_score']\n",
        "x_train_data = train_data.drop(['credit_history_score', 'duration_score', 'total_score'], axis=1)\n",
        "y_train_data = train_data['total_score']"
      ]
    },
    {
      "cell_type": "markdown",
      "metadata": {
        "id": "vRlqoxneYHc5"
      },
      "source": [
        "We split the unlabelled data into 3 sets."
      ]
    },
    {
      "cell_type": "code",
      "execution_count": 5,
      "metadata": {
        "id": "LGk_TkT0YIRj"
      },
      "outputs": [],
      "source": [
        "removal_index_unlabelled1 = range(0, len(applicants_no_records), 3)\n",
        "removal_index_unlabelled2 = range(1, len(applicants_no_records), 3)\n",
        "removal_index_unlabelled3 = range(2, len(applicants_no_records), 3)\n",
        "unlabelled_data_1 = applicants_no_records.reset_index().filter(removal_index_unlabelled1, axis=0)\n",
        "unlabelled_data_2 = applicants_no_records.reset_index().filter(removal_index_unlabelled2, axis=0)\n",
        "unlabelled_data_3 = applicants_no_records.reset_index().filter(removal_index_unlabelled3, axis=0)\n",
        "\n",
        "x_unlabelled_data_1 = unlabelled_data_1.drop(['credit_history_score', 'duration_score', 'total_score'], axis=1)\n",
        "x_unlabelled_data_2 = unlabelled_data_2.drop(['credit_history_score', 'duration_score', 'total_score'], axis=1)\n",
        "x_unlabelled_data_3 = unlabelled_data_3.drop(['credit_history_score', 'duration_score', 'total_score'], axis=1)"
      ]
    },
    {
      "cell_type": "markdown",
      "metadata": {
        "id": "Q8qN0FN4YKpT"
      },
      "source": [
        "We remove first column as they are indexes."
      ]
    },
    {
      "cell_type": "code",
      "execution_count": 6,
      "metadata": {
        "id": "J0DVUbkhYMV6"
      },
      "outputs": [],
      "source": [
        "x_test_data = x_test_data.drop(columns=['index'])\n",
        "x_train_data = x_train_data.drop(columns=['index'])\n",
        "x_unlabelled_data_1 = x_unlabelled_data_1.drop(columns=['index'])\n",
        "x_unlabelled_data_2 = x_unlabelled_data_2.drop(columns=['index'])\n",
        "x_unlabelled_data_3 = x_unlabelled_data_3.drop(columns=['index'])"
      ]
    },
    {
      "cell_type": "markdown",
      "metadata": {
        "id": "yUVywWePaIzO"
      },
      "source": [
        "# Semi-supervised Learning\n",
        "We will now use the learning model and implement Decision tree.\n",
        "\n",
        "Datasets:\n",
        "* x_test_data\n",
        "* y_test_data\n",
        "* x_train_data\n",
        "* y_train_data\n",
        "* x_unlabelled_data_1\n",
        "* x_unlabelled_data_2\n",
        "* x_unlabelled_data_3\n",
        "\n",
        "We label applicants with > 0.35 scores as good clients"
      ]
    },
    {
      "cell_type": "code",
      "execution_count": 7,
      "metadata": {
        "id": "ykvLUKgqpu8m"
      },
      "outputs": [],
      "source": [
        "y_test_data = (y_test_data > 0.35).astype(int)\n",
        "y_train_data = (y_train_data > 0.35).astype(int)\n",
        "\n",
        "from imblearn.over_sampling import SMOTE\n",
        "oversample = SMOTE()\n",
        "x_train_data, y_train_data = oversample.fit_resample(x_train_data, y_train_data)"
      ]
    },
    {
      "cell_type": "code",
      "execution_count": 8,
      "metadata": {
        "id": "__aGa2LFveRl"
      },
      "outputs": [],
      "source": [
        "from sklearn.metrics import accuracy_score\n",
        "trg_num = [1, 2, 3, 4]\n",
        "accuracy_scores = []"
      ]
    },
    {
      "cell_type": "markdown",
      "metadata": {},
      "source": [
        "We create all 4 models to be used in SSL"
      ]
    },
    {
      "cell_type": "code",
      "execution_count": 9,
      "metadata": {
        "id": "xd29UTkyS4wf"
      },
      "outputs": [],
      "source": [
        "from sklearn.tree import DecisionTreeClassifier \n",
        "model_one = DecisionTreeClassifier(criterion=\"entropy\")\n",
        "model_two = DecisionTreeClassifier(criterion=\"entropy\")             \n",
        "model_three = DecisionTreeClassifier(criterion=\"entropy\")\n",
        "model_four = DecisionTreeClassifier(criterion=\"entropy\")"
      ]
    },
    {
      "cell_type": "markdown",
      "metadata": {
        "id": "64LYVrmI2x-w"
      },
      "source": [
        "## First training"
      ]
    },
    {
      "cell_type": "code",
      "execution_count": 10,
      "metadata": {
        "id": "UYx6k4mFalKd"
      },
      "outputs": [],
      "source": [
        "first_training = model_one.fit(x_train_data, y_train_data)"
      ]
    },
    {
      "cell_type": "code",
      "execution_count": 11,
      "metadata": {
        "id": "2FtIPYx_11bH"
      },
      "outputs": [],
      "source": [
        "generated_label_1 = model_one.predict(x_unlabelled_data_1)\n",
        "generated_label_1 = pd.Series(generated_label_1, name='total_score', dtype=float)\n",
        "new_x_train_data = pd.concat([x_train_data, x_unlabelled_data_1])\n",
        "new_y_train_data = pd.concat([y_train_data, generated_label_1])"
      ]
    },
    {
      "cell_type": "code",
      "execution_count": 12,
      "metadata": {
        "id": "VG_eeX-fvuqC"
      },
      "outputs": [],
      "source": [
        "test1_accuracy = model_one.predict(x_test_data)\n",
        "test1_accuracy = pd.Series(test1_accuracy, name='total_score', dtype=float)\n",
        "accuracy_scores.append(accuracy_score(y_test_data, test1_accuracy))"
      ]
    },
    {
      "cell_type": "markdown",
      "metadata": {
        "id": "HUa_Dg9R2_0S"
      },
      "source": [
        "## Second training "
      ]
    },
    {
      "cell_type": "code",
      "execution_count": 13,
      "metadata": {
        "id": "sKkc-aJR3DM0"
      },
      "outputs": [],
      "source": [
        "second_training = model_two.fit(new_x_train_data, new_y_train_data)"
      ]
    },
    {
      "cell_type": "code",
      "execution_count": 14,
      "metadata": {
        "id": "j6d8a6oe3kNs"
      },
      "outputs": [],
      "source": [
        "generated_label_2 = model_two.predict(x_unlabelled_data_2)\n",
        "generated_label_2 = pd.Series(generated_label_2, name='total_score', dtype=float)\n",
        "new_x_train_data = pd.concat([new_x_train_data, x_unlabelled_data_2])\n",
        "new_y_train_data = pd.concat([new_y_train_data, generated_label_2])"
      ]
    },
    {
      "cell_type": "code",
      "execution_count": 15,
      "metadata": {
        "id": "r7Vc3jr8zkKE"
      },
      "outputs": [],
      "source": [
        "test2_accuracy = model_two.predict(x_test_data)\n",
        "accuracy_scores.append(accuracy_score(y_test_data, test2_accuracy))"
      ]
    },
    {
      "cell_type": "markdown",
      "metadata": {
        "id": "1zjKlek5AtId"
      },
      "source": [
        "## Third training"
      ]
    },
    {
      "cell_type": "code",
      "execution_count": 16,
      "metadata": {
        "id": "hW-7UgRYAv2S"
      },
      "outputs": [],
      "source": [
        "third_training = model_three.fit(new_x_train_data, new_y_train_data)"
      ]
    },
    {
      "cell_type": "code",
      "execution_count": 17,
      "metadata": {
        "id": "kPTgqzYIA1Hj"
      },
      "outputs": [],
      "source": [
        "generated_label_3 = model_three.predict(x_unlabelled_data_3)\n",
        "generated_label_3 = pd.Series(generated_label_3, name='total_score', dtype=float)\n",
        "new_x_train_data = pd.concat([new_x_train_data, x_unlabelled_data_3])\n",
        "new_y_train_data = pd.concat([new_y_train_data, generated_label_3])"
      ]
    },
    {
      "cell_type": "code",
      "execution_count": 18,
      "metadata": {
        "id": "xGhMa46OzpMx"
      },
      "outputs": [],
      "source": [
        "test3_accuracy = model_three.predict(x_test_data)\n",
        "accuracy_scores.append(accuracy_score(y_test_data, test3_accuracy))"
      ]
    },
    {
      "cell_type": "markdown",
      "metadata": {
        "id": "D1I_4rwjBeRh"
      },
      "source": [
        "# Fourth training "
      ]
    },
    {
      "cell_type": "code",
      "execution_count": 19,
      "metadata": {
        "id": "zEyDALA7Bc5l"
      },
      "outputs": [],
      "source": [
        "fourth_training = model_four.fit(new_x_train_data, new_y_train_data)"
      ]
    },
    {
      "cell_type": "markdown",
      "metadata": {
        "id": "CoaLh-kQBrbA"
      },
      "source": [
        "## Testing accuracy\n",
        "We will now test the accuracy of our model."
      ]
    },
    {
      "cell_type": "code",
      "execution_count": 20,
      "metadata": {
        "id": "zq0UAifdBJ7f"
      },
      "outputs": [],
      "source": [
        "from sklearn.metrics import classification_report"
      ]
    },
    {
      "cell_type": "code",
      "execution_count": 21,
      "metadata": {
        "colab": {
          "base_uri": "https://localhost:8080/"
        },
        "id": "Z0Vn1vvrB84w",
        "outputId": "bb4c0033-3734-4bff-efb2-d1d1fa966b37"
      },
      "outputs": [
        {
          "name": "stdout",
          "output_type": "stream",
          "text": [
            "              precision    recall  f1-score   support\n",
            "\n",
            "           0       0.25      0.39      0.31       420\n",
            "           1       0.96      0.93      0.95      6872\n",
            "\n",
            "    accuracy                           0.90      7292\n",
            "   macro avg       0.61      0.66      0.63      7292\n",
            "weighted avg       0.92      0.90      0.91      7292\n",
            "\n"
          ]
        }
      ],
      "source": [
        "test4_accuracy = model_four.predict(x_test_data)\n",
        "accuracy_scores.append(accuracy_score(y_test_data, test4_accuracy))\n",
        "test4_accuracy = pd.Series(test4_accuracy, name='total_score', dtype=float)\n",
        "print(classification_report(y_test_data, test4_accuracy))"
      ]
    },
    {
      "cell_type": "markdown",
      "metadata": {},
      "source": [
        "What if we simply do DT on the labelled data only?"
      ]
    },
    {
      "cell_type": "code",
      "execution_count": 22,
      "metadata": {},
      "outputs": [
        {
          "name": "stdout",
          "output_type": "stream",
          "text": [
            "              precision    recall  f1-score   support\n",
            "\n",
            "           0       0.25      0.39      0.31       420\n",
            "           1       0.96      0.93      0.95      6872\n",
            "\n",
            "    accuracy                           0.90      7292\n",
            "   macro avg       0.61      0.66      0.63      7292\n",
            "weighted avg       0.92      0.90      0.91      7292\n",
            "\n"
          ]
        }
      ],
      "source": [
        "pure_model_accuracy = model_one.predict(x_test_data)\n",
        "pure_model_accuracy = pd.Series(pure_model_accuracy, name='total_score', dtype=float)\n",
        "print(classification_report(y_test_data, pure_model_accuracy))"
      ]
    },
    {
      "cell_type": "markdown",
      "metadata": {},
      "source": [
        "What are the accuracies of all 4 training iterations in SSL?"
      ]
    },
    {
      "cell_type": "code",
      "execution_count": 23,
      "metadata": {
        "colab": {
          "base_uri": "https://localhost:8080/"
        },
        "id": "lQW6A9YF2l1t",
        "outputId": "6d2ac689-bfb5-4a05-c9df-6434f17ec158"
      },
      "outputs": [
        {
          "data": {
            "text/plain": [
              "[0.8992046077893582, 0.8990674712013165, 0.899753154141525, 0.8987931980252332]"
            ]
          },
          "execution_count": 23,
          "metadata": {},
          "output_type": "execute_result"
        }
      ],
      "source": [
        "accuracy_scores"
      ]
    },
    {
      "cell_type": "code",
      "execution_count": 24,
      "metadata": {},
      "outputs": [
        {
          "data": {
            "image/png": "[encoded data removed]",
            "text/plain": [
              "<Figure size 432x288 with 1 Axes>"
            ]
          },
          "metadata": {
            "needs_background": "light"
          },
          "output_type": "display_data"
        }
      ],
      "source": [
        "plt.plot(trg_num, accuracy_scores)\n",
        "plt.xlabel('Training Number') \n",
        "plt.ylabel('Accuracy') \n",
        "plt.show() "
      ]
    }
  ],
  "metadata": {
    "colab": {
      "collapsed_sections": [],
      "provenance": []
    },
    "kernelspec": {
      "display_name": "Python 3.9.13 64-bit (microsoft store)",
      "language": "python",
      "name": "python3"
    },
    "language_info": {
      "codemirror_mode": {
        "name": "ipython",
        "version": 3
      },
      "file_extension": ".py",
      "mimetype": "text/x-python",
      "name": "python",
      "nbconvert_exporter": "python",
      "pygments_lexer": "ipython3",
      "version": "3.9.13"
    },
    "vscode": {
      "interpreter": {
        "hash": "e545a6e027712da274986a0f0871a5356383609221311d798914a1213fea45b4"
      }
    }
  },
  "nbformat": 4,
  "nbformat_minor": 0
}
